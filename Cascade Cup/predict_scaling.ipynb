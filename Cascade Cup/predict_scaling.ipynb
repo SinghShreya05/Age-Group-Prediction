{
  "nbformat": 4,
  "nbformat_minor": 0,
  "metadata": {
    "colab": {
      "name": "predict_scaling.ipynb",
      "provenance": [],
      "collapsed_sections": []
    },
    "kernelspec": {
      "name": "python3",
      "display_name": "Python 3"
    },
    "accelerator": "GPU"
  },
  "cells": [
    {
      "cell_type": "code",
      "metadata": {
        "id": "JG0H3QqQqlfo"
      },
      "source": [
        "import pandas as pd\r\n",
        "import numpy as np\r\n",
        "import matplotlib.pyplot as plt\r\n",
        "import seaborn as sns\r\n",
        "import sklearn\r\n",
        "from xgboost import XGBClassifier\r\n",
        "from sklearn.model_selection import train_test_split\r\n",
        "from sklearn import metrics"
      ],
      "execution_count": 1,
      "outputs": []
    },
    {
      "cell_type": "code",
      "metadata": {
        "colab": {
          "base_uri": "https://localhost:8080/"
        },
        "id": "2u3xG-uhHrsM",
        "outputId": "6c5e4ded-b389-4042-88f2-6c56789edda7"
      },
      "source": [
        "from google.colab import drive\n",
        "drive.mount('/content/drive')"
      ],
      "execution_count": 2,
      "outputs": [
        {
          "output_type": "stream",
          "text": [
            "Mounted at /content/drive\n"
          ],
          "name": "stdout"
        }
      ]
    },
    {
      "cell_type": "code",
      "metadata": {
        "colab": {
          "base_uri": "https://localhost:8080/",
          "height": 127
        },
        "id": "vUhGZqsmqunm",
        "outputId": "462534f0-274f-476f-ab91-cfac639a5055"
      },
      "source": [
        "train_out=pd.read_csv(\"/content/drive/MyDrive/train_out.csv\")\r\n",
        "train_out.drop([\"Unnamed: 0\"], axis=1, inplace=True)\r\n",
        "train_out.head(2)"
      ],
      "execution_count": 3,
      "outputs": [
        {
          "output_type": "execute_result",
          "data": {
            "text/html": [
              "<div>\n",
              "<style scoped>\n",
              "    .dataframe tbody tr th:only-of-type {\n",
              "        vertical-align: middle;\n",
              "    }\n",
              "\n",
              "    .dataframe tbody tr th {\n",
              "        vertical-align: top;\n",
              "    }\n",
              "\n",
              "    .dataframe thead th {\n",
              "        text-align: right;\n",
              "    }\n",
              "</style>\n",
              "<table border=\"1\" class=\"dataframe\">\n",
              "  <thead>\n",
              "    <tr style=\"text-align: right;\">\n",
              "      <th></th>\n",
              "      <th>tier</th>\n",
              "      <th>gender</th>\n",
              "      <th>following_rate</th>\n",
              "      <th>followers_avg_age</th>\n",
              "      <th>following_avg_age</th>\n",
              "      <th>max_repetitive_punc</th>\n",
              "      <th>num_of_hashtags_per_action</th>\n",
              "      <th>emoji_count_per_action</th>\n",
              "      <th>punctuations_per_action</th>\n",
              "      <th>number_of_words_per_action</th>\n",
              "      <th>avgCompletion</th>\n",
              "      <th>avgTimeSpent</th>\n",
              "      <th>avgDuration</th>\n",
              "      <th>avgComments</th>\n",
              "      <th>creations</th>\n",
              "      <th>content_views</th>\n",
              "      <th>num_of_comments</th>\n",
              "      <th>weekends_trails_watched_per_day</th>\n",
              "      <th>weekdays_trails_watched_per_day</th>\n",
              "      <th>slot1_trails_watched_per_day</th>\n",
              "      <th>slot2_trails_watched_per_day</th>\n",
              "      <th>slot3_trails_watched_per_day</th>\n",
              "      <th>slot4_trails_watched_per_day</th>\n",
              "      <th>avgt2</th>\n",
              "      <th>age_group</th>\n",
              "    </tr>\n",
              "  </thead>\n",
              "  <tbody>\n",
              "    <tr>\n",
              "      <th>0</th>\n",
              "      <td>2</td>\n",
              "      <td>1</td>\n",
              "      <td>0.0</td>\n",
              "      <td>0.0</td>\n",
              "      <td>0.0</td>\n",
              "      <td>0</td>\n",
              "      <td>0.0</td>\n",
              "      <td>0.0</td>\n",
              "      <td>0.000000</td>\n",
              "      <td>0.000000</td>\n",
              "      <td>0.463330</td>\n",
              "      <td>34.160000</td>\n",
              "      <td>53.996091</td>\n",
              "      <td>0</td>\n",
              "      <td>0.000000</td>\n",
              "      <td>0.20000</td>\n",
              "      <td>0.0</td>\n",
              "      <td>0.041667</td>\n",
              "      <td>0.025000</td>\n",
              "      <td>0.0</td>\n",
              "      <td>0.000000</td>\n",
              "      <td>0.175</td>\n",
              "      <td>0.033333</td>\n",
              "      <td>0.0</td>\n",
              "      <td>1</td>\n",
              "    </tr>\n",
              "    <tr>\n",
              "      <th>1</th>\n",
              "      <td>2</td>\n",
              "      <td>2</td>\n",
              "      <td>0.0</td>\n",
              "      <td>0.0</td>\n",
              "      <td>0.0</td>\n",
              "      <td>0</td>\n",
              "      <td>0.0</td>\n",
              "      <td>0.0</td>\n",
              "      <td>0.076923</td>\n",
              "      <td>0.153846</td>\n",
              "      <td>0.429468</td>\n",
              "      <td>15.285714</td>\n",
              "      <td>96.231625</td>\n",
              "      <td>0</td>\n",
              "      <td>0.008475</td>\n",
              "      <td>0.09322</td>\n",
              "      <td>0.0</td>\n",
              "      <td>0.012712</td>\n",
              "      <td>0.018644</td>\n",
              "      <td>0.0</td>\n",
              "      <td>0.084746</td>\n",
              "      <td>0.000</td>\n",
              "      <td>0.033898</td>\n",
              "      <td>82.5</td>\n",
              "      <td>2</td>\n",
              "    </tr>\n",
              "  </tbody>\n",
              "</table>\n",
              "</div>"
            ],
            "text/plain": [
              "   tier  gender  following_rate  ...  slot4_trails_watched_per_day  avgt2  age_group\n",
              "0     2       1             0.0  ...                      0.033333    0.0          1\n",
              "1     2       2             0.0  ...                      0.033898   82.5          2\n",
              "\n",
              "[2 rows x 25 columns]"
            ]
          },
          "metadata": {
            "tags": []
          },
          "execution_count": 3
        }
      ]
    },
    {
      "cell_type": "code",
      "metadata": {
        "colab": {
          "base_uri": "https://localhost:8080/"
        },
        "id": "FG1SM4qutvxS",
        "outputId": "34dfd1f6-cb38-4d4c-eaef-7c87dbe170a8"
      },
      "source": [
        "train_out.columns"
      ],
      "execution_count": 4,
      "outputs": [
        {
          "output_type": "execute_result",
          "data": {
            "text/plain": [
              "Index(['tier', 'gender', 'following_rate', 'followers_avg_age',\n",
              "       'following_avg_age', 'max_repetitive_punc',\n",
              "       'num_of_hashtags_per_action', 'emoji_count_per_action',\n",
              "       'punctuations_per_action', 'number_of_words_per_action',\n",
              "       'avgCompletion', 'avgTimeSpent', 'avgDuration', 'avgComments',\n",
              "       'creations', 'content_views', 'num_of_comments',\n",
              "       'weekends_trails_watched_per_day', 'weekdays_trails_watched_per_day',\n",
              "       'slot1_trails_watched_per_day', 'slot2_trails_watched_per_day',\n",
              "       'slot3_trails_watched_per_day', 'slot4_trails_watched_per_day', 'avgt2',\n",
              "       'age_group'],\n",
              "      dtype='object')"
            ]
          },
          "metadata": {
            "tags": []
          },
          "execution_count": 4
        }
      ]
    },
    {
      "cell_type": "code",
      "metadata": {
        "id": "Nc_LGsKequqs"
      },
      "source": [
        "y = train_out['age_group']\r\n",
        "X = train_out.drop(['age_group'], axis=1, inplace=False)"
      ],
      "execution_count": 5,
      "outputs": []
    },
    {
      "cell_type": "code",
      "metadata": {
        "id": "73mG7W8hqutg"
      },
      "source": [
        "from imblearn.combine import SMOTETomek\r\n",
        "smk = SMOTETomek(random_state=42)\r\n",
        "X_res,y_res=smk.fit_sample(X,y)"
      ],
      "execution_count": null,
      "outputs": []
    },
    {
      "cell_type": "code",
      "metadata": {
        "colab": {
          "base_uri": "https://localhost:8080/",
          "height": 127
        },
        "id": "u_GUMGw3K2lm",
        "outputId": "64b3c129-9610-4fb6-953a-c95bce2734e0"
      },
      "source": [
        "data_X = pd.DataFrame(X_res, columns = ['tier', 'gender', 'following_rate', 'followers_avg_age',\r\n",
        "       'following_avg_age', 'max_repetitive_punc',\r\n",
        "       'num_of_hashtags_per_action', 'emoji_count_per_action',\r\n",
        "       'punctuations_per_action', 'number_of_words_per_action',\r\n",
        "       'avgCompletion', 'avgTimeSpent', 'avgDuration', 'avgComments',\r\n",
        "       'creations', 'content_views', 'num_of_comments',\r\n",
        "       'weekends_trails_watched_per_day', 'weekdays_trails_watched_per_day',\r\n",
        "       'slot1_trails_watched_per_day', 'slot2_trails_watched_per_day',\r\n",
        "       'slot3_trails_watched_per_day', 'slot4_trails_watched_per_day', 'avgt2'])\r\n",
        "data_X.head(2)"
      ],
      "execution_count": 24,
      "outputs": [
        {
          "output_type": "execute_result",
          "data": {
            "text/html": [
              "<div>\n",
              "<style scoped>\n",
              "    .dataframe tbody tr th:only-of-type {\n",
              "        vertical-align: middle;\n",
              "    }\n",
              "\n",
              "    .dataframe tbody tr th {\n",
              "        vertical-align: top;\n",
              "    }\n",
              "\n",
              "    .dataframe thead th {\n",
              "        text-align: right;\n",
              "    }\n",
              "</style>\n",
              "<table border=\"1\" class=\"dataframe\">\n",
              "  <thead>\n",
              "    <tr style=\"text-align: right;\">\n",
              "      <th></th>\n",
              "      <th>tier</th>\n",
              "      <th>gender</th>\n",
              "      <th>following_rate</th>\n",
              "      <th>followers_avg_age</th>\n",
              "      <th>following_avg_age</th>\n",
              "      <th>max_repetitive_punc</th>\n",
              "      <th>num_of_hashtags_per_action</th>\n",
              "      <th>emoji_count_per_action</th>\n",
              "      <th>punctuations_per_action</th>\n",
              "      <th>number_of_words_per_action</th>\n",
              "      <th>avgCompletion</th>\n",
              "      <th>avgTimeSpent</th>\n",
              "      <th>avgDuration</th>\n",
              "      <th>avgComments</th>\n",
              "      <th>creations</th>\n",
              "      <th>content_views</th>\n",
              "      <th>num_of_comments</th>\n",
              "      <th>weekends_trails_watched_per_day</th>\n",
              "      <th>weekdays_trails_watched_per_day</th>\n",
              "      <th>slot1_trails_watched_per_day</th>\n",
              "      <th>slot2_trails_watched_per_day</th>\n",
              "      <th>slot3_trails_watched_per_day</th>\n",
              "      <th>slot4_trails_watched_per_day</th>\n",
              "      <th>avgt2</th>\n",
              "    </tr>\n",
              "  </thead>\n",
              "  <tbody>\n",
              "    <tr>\n",
              "      <th>0</th>\n",
              "      <td>2.0</td>\n",
              "      <td>1.0</td>\n",
              "      <td>0.0</td>\n",
              "      <td>0.0</td>\n",
              "      <td>0.0</td>\n",
              "      <td>0.0</td>\n",
              "      <td>0.0</td>\n",
              "      <td>0.0</td>\n",
              "      <td>0.000000</td>\n",
              "      <td>0.000000</td>\n",
              "      <td>0.463330</td>\n",
              "      <td>34.160000</td>\n",
              "      <td>53.996091</td>\n",
              "      <td>0.0</td>\n",
              "      <td>0.000000</td>\n",
              "      <td>0.20000</td>\n",
              "      <td>0.0</td>\n",
              "      <td>0.041667</td>\n",
              "      <td>0.025000</td>\n",
              "      <td>0.0</td>\n",
              "      <td>0.000000</td>\n",
              "      <td>0.175</td>\n",
              "      <td>0.033333</td>\n",
              "      <td>0.0</td>\n",
              "    </tr>\n",
              "    <tr>\n",
              "      <th>1</th>\n",
              "      <td>2.0</td>\n",
              "      <td>2.0</td>\n",
              "      <td>0.0</td>\n",
              "      <td>0.0</td>\n",
              "      <td>0.0</td>\n",
              "      <td>0.0</td>\n",
              "      <td>0.0</td>\n",
              "      <td>0.0</td>\n",
              "      <td>0.076923</td>\n",
              "      <td>0.153846</td>\n",
              "      <td>0.429468</td>\n",
              "      <td>15.285714</td>\n",
              "      <td>96.231625</td>\n",
              "      <td>0.0</td>\n",
              "      <td>0.008475</td>\n",
              "      <td>0.09322</td>\n",
              "      <td>0.0</td>\n",
              "      <td>0.012712</td>\n",
              "      <td>0.018644</td>\n",
              "      <td>0.0</td>\n",
              "      <td>0.084746</td>\n",
              "      <td>0.000</td>\n",
              "      <td>0.033898</td>\n",
              "      <td>82.5</td>\n",
              "    </tr>\n",
              "  </tbody>\n",
              "</table>\n",
              "</div>"
            ],
            "text/plain": [
              "   tier  gender  ...  slot4_trails_watched_per_day  avgt2\n",
              "0   2.0     1.0  ...                      0.033333    0.0\n",
              "1   2.0     2.0  ...                      0.033898   82.5\n",
              "\n",
              "[2 rows x 24 columns]"
            ]
          },
          "metadata": {
            "tags": []
          },
          "execution_count": 24
        }
      ]
    },
    {
      "cell_type": "code",
      "metadata": {
        "colab": {
          "base_uri": "https://localhost:8080/"
        },
        "id": "peoTK3NJLpd3",
        "outputId": "83b1f992-c5bc-48c4-fef8-2557cb1d4763"
      },
      "source": [
        "data_X.shape"
      ],
      "execution_count": 26,
      "outputs": [
        {
          "output_type": "execute_result",
          "data": {
            "text/plain": [
              "(1215750, 24)"
            ]
          },
          "metadata": {
            "tags": []
          },
          "execution_count": 26
        }
      ]
    },
    {
      "cell_type": "code",
      "metadata": {
        "id": "Twcz_11ZquwJ"
      },
      "source": [
        "train_x,test_x,train_y,test_y=train_test_split(X_res,y_res,test_size=.04,random_state=42, stratify = y_res)"
      ],
      "execution_count": 7,
      "outputs": []
    },
    {
      "cell_type": "code",
      "metadata": {
        "id": "TXSW_5t4sZwc"
      },
      "source": [
        "from sklearn.preprocessing import StandardScaler\r\n",
        "scaler = StandardScaler()\r\n",
        "x_train=scaler.fit_transform(train_x)\r\n",
        "x_test=scaler.transform(test_x)"
      ],
      "execution_count": 8,
      "outputs": []
    },
    {
      "cell_type": "code",
      "metadata": {
        "id": "_COVLwhaquy9"
      },
      "source": [
        "xgb_clf = XGBClassifier(tree_method = 'gpu_hist', gpu_id=0, objective = \"multi:softmax\", num_class=4,n_estimators=1500, max_depth=20,learning_rate=0.006)"
      ],
      "execution_count": 9,
      "outputs": []
    },
    {
      "cell_type": "code",
      "metadata": {
        "id": "sxLFLxcTqu4l"
      },
      "source": [
        "xgb_hist = xgb_clf.fit(x_train, train_y)"
      ],
      "execution_count": 10,
      "outputs": []
    },
    {
      "cell_type": "code",
      "metadata": {
        "colab": {
          "base_uri": "https://localhost:8080/"
        },
        "id": "Dfc_pWrYqu7l",
        "outputId": "1dabc882-1953-44b5-9474-37b9e536853b"
      },
      "source": [
        "from sklearn import metrics\r\n",
        "expected_y  = test_y\r\n",
        "predicted_y = xgb_clf.predict(x_test)\r\n",
        "print('Report: ') \r\n",
        "print(metrics.classification_report(expected_y, predicted_y))"
      ],
      "execution_count": 11,
      "outputs": [
        {
          "output_type": "stream",
          "text": [
            "Report: \n",
            "              precision    recall  f1-score   support\n",
            "\n",
            "           1       0.95      0.88      0.91     12097\n",
            "           2       0.76      0.85      0.80     12175\n",
            "           3       0.81      0.77      0.79     12175\n",
            "           4       0.80      0.80      0.80     12183\n",
            "\n",
            "    accuracy                           0.82     48630\n",
            "   macro avg       0.83      0.82      0.82     48630\n",
            "weighted avg       0.83      0.82      0.82     48630\n",
            "\n"
          ],
          "name": "stdout"
        }
      ]
    },
    {
      "cell_type": "code",
      "metadata": {
        "colab": {
          "base_uri": "https://localhost:8080/",
          "height": 127
        },
        "id": "qJndybU1qvBQ",
        "outputId": "194c4751-ccdf-4505-df40-bdb0ea369f7c"
      },
      "source": [
        "test=pd.read_csv('/content/drive/MyDrive/test_age_dataset.csv')\r\n",
        "test.drop([\"Unnamed: 0\",\"userId\"], axis=1, inplace=True)\r\n",
        "test.head(2)"
      ],
      "execution_count": 14,
      "outputs": [
        {
          "output_type": "execute_result",
          "data": {
            "text/html": [
              "<div>\n",
              "<style scoped>\n",
              "    .dataframe tbody tr th:only-of-type {\n",
              "        vertical-align: middle;\n",
              "    }\n",
              "\n",
              "    .dataframe tbody tr th {\n",
              "        vertical-align: top;\n",
              "    }\n",
              "\n",
              "    .dataframe thead th {\n",
              "        text-align: right;\n",
              "    }\n",
              "</style>\n",
              "<table border=\"1\" class=\"dataframe\">\n",
              "  <thead>\n",
              "    <tr style=\"text-align: right;\">\n",
              "      <th></th>\n",
              "      <th>tier</th>\n",
              "      <th>gender</th>\n",
              "      <th>following_rate</th>\n",
              "      <th>followers_avg_age</th>\n",
              "      <th>following_avg_age</th>\n",
              "      <th>max_repetitive_punc</th>\n",
              "      <th>num_of_hashtags_per_action</th>\n",
              "      <th>emoji_count_per_action</th>\n",
              "      <th>punctuations_per_action</th>\n",
              "      <th>number_of_words_per_action</th>\n",
              "      <th>avgCompletion</th>\n",
              "      <th>avgTimeSpent</th>\n",
              "      <th>avgDuration</th>\n",
              "      <th>avgComments</th>\n",
              "      <th>creations</th>\n",
              "      <th>content_views</th>\n",
              "      <th>num_of_comments</th>\n",
              "      <th>weekends_trails_watched_per_day</th>\n",
              "      <th>weekdays_trails_watched_per_day</th>\n",
              "      <th>slot1_trails_watched_per_day</th>\n",
              "      <th>slot2_trails_watched_per_day</th>\n",
              "      <th>slot3_trails_watched_per_day</th>\n",
              "      <th>slot4_trails_watched_per_day</th>\n",
              "      <th>avgt2</th>\n",
              "    </tr>\n",
              "  </thead>\n",
              "  <tbody>\n",
              "    <tr>\n",
              "      <th>0</th>\n",
              "      <td>2</td>\n",
              "      <td>1</td>\n",
              "      <td>0.000000</td>\n",
              "      <td>0.0</td>\n",
              "      <td>0.0</td>\n",
              "      <td>0</td>\n",
              "      <td>0.0</td>\n",
              "      <td>0.0</td>\n",
              "      <td>0.0</td>\n",
              "      <td>0.0</td>\n",
              "      <td>0.033242</td>\n",
              "      <td>4.5</td>\n",
              "      <td>120.313571</td>\n",
              "      <td>0</td>\n",
              "      <td>0.0</td>\n",
              "      <td>0.062992</td>\n",
              "      <td>0.0</td>\n",
              "      <td>0.0</td>\n",
              "      <td>0.012598</td>\n",
              "      <td>0.0</td>\n",
              "      <td>0.0</td>\n",
              "      <td>0.062992</td>\n",
              "      <td>0.0</td>\n",
              "      <td>0.0</td>\n",
              "    </tr>\n",
              "    <tr>\n",
              "      <th>1</th>\n",
              "      <td>2</td>\n",
              "      <td>1</td>\n",
              "      <td>0.001818</td>\n",
              "      <td>0.0</td>\n",
              "      <td>0.0</td>\n",
              "      <td>0</td>\n",
              "      <td>0.0</td>\n",
              "      <td>0.0</td>\n",
              "      <td>0.0</td>\n",
              "      <td>0.0</td>\n",
              "      <td>0.051057</td>\n",
              "      <td>9.5</td>\n",
              "      <td>188.615500</td>\n",
              "      <td>0</td>\n",
              "      <td>0.0</td>\n",
              "      <td>0.003636</td>\n",
              "      <td>0.0</td>\n",
              "      <td>0.0</td>\n",
              "      <td>0.000727</td>\n",
              "      <td>0.0</td>\n",
              "      <td>0.0</td>\n",
              "      <td>0.003636</td>\n",
              "      <td>0.0</td>\n",
              "      <td>0.0</td>\n",
              "    </tr>\n",
              "  </tbody>\n",
              "</table>\n",
              "</div>"
            ],
            "text/plain": [
              "   tier  gender  ...  slot4_trails_watched_per_day  avgt2\n",
              "0     2       1  ...                           0.0    0.0\n",
              "1     2       1  ...                           0.0    0.0\n",
              "\n",
              "[2 rows x 24 columns]"
            ]
          },
          "metadata": {
            "tags": []
          },
          "execution_count": 14
        }
      ]
    },
    {
      "cell_type": "code",
      "metadata": {
        "colab": {
          "base_uri": "https://localhost:8080/"
        },
        "id": "2BDCOshPG9Ko",
        "outputId": "c408160e-6ce4-4b38-caa1-ec50b3431482"
      },
      "source": [
        "test.values"
      ],
      "execution_count": 15,
      "outputs": [
        {
          "output_type": "execute_result",
          "data": {
            "text/plain": [
              "array([[2.00000000e+00, 1.00000000e+00, 0.00000000e+00, ...,\n",
              "        6.29921260e-02, 0.00000000e+00, 0.00000000e+00],\n",
              "       [2.00000000e+00, 1.00000000e+00, 1.81818200e-03, ...,\n",
              "        3.63636400e-03, 0.00000000e+00, 0.00000000e+00],\n",
              "       [2.00000000e+00, 1.00000000e+00, 0.00000000e+00, ...,\n",
              "        7.42857143e-01, 3.14285714e-01, 0.00000000e+00],\n",
              "       ...,\n",
              "       [2.00000000e+00, 1.00000000e+00, 4.83870970e-02, ...,\n",
              "        4.83870970e-02, 7.25806452e-01, 1.86000000e+02],\n",
              "       [1.00000000e+00, 2.00000000e+00, 0.00000000e+00, ...,\n",
              "        0.00000000e+00, 1.77966102e-01, 0.00000000e+00],\n",
              "       [3.00000000e+00, 1.00000000e+00, 0.00000000e+00, ...,\n",
              "        0.00000000e+00, 0.00000000e+00, 0.00000000e+00]])"
            ]
          },
          "metadata": {
            "tags": []
          },
          "execution_count": 15
        }
      ]
    },
    {
      "cell_type": "code",
      "metadata": {
        "id": "xX6Spum4qvHq"
      },
      "source": [
        "predict = xgb_clf.predict(test.values)"
      ],
      "execution_count": 16,
      "outputs": []
    },
    {
      "cell_type": "code",
      "metadata": {
        "id": "Gbao8YenqvOQ"
      },
      "source": [
        "df_pred = pd.DataFrame({\"prediction\" : predict}, columns = [\"prediction\"]).set_index(\"prediction\")"
      ],
      "execution_count": 17,
      "outputs": []
    },
    {
      "cell_type": "code",
      "metadata": {
        "colab": {
          "base_uri": "https://localhost:8080/",
          "height": 16
        },
        "id": "XQorTDbzsuh5",
        "outputId": "fe87930e-8c45-4d16-90f3-5a584ff98d37"
      },
      "source": [
        "def download_preds(df_pred, file_name = 'res3.csv'):\r\n",
        "  df_pred.to_csv(file_name)\r\n",
        "  from google.colab import files\r\n",
        "  files.download(file_name)\r\n",
        "download_preds(df_pred, file_name = 'res3.csv')"
      ],
      "execution_count": 18,
      "outputs": [
        {
          "output_type": "display_data",
          "data": {
            "application/javascript": [
              "\n",
              "    async function download(id, filename, size) {\n",
              "      if (!google.colab.kernel.accessAllowed) {\n",
              "        return;\n",
              "      }\n",
              "      const div = document.createElement('div');\n",
              "      const label = document.createElement('label');\n",
              "      label.textContent = `Downloading \"${filename}\": `;\n",
              "      div.appendChild(label);\n",
              "      const progress = document.createElement('progress');\n",
              "      progress.max = size;\n",
              "      div.appendChild(progress);\n",
              "      document.body.appendChild(div);\n",
              "\n",
              "      const buffers = [];\n",
              "      let downloaded = 0;\n",
              "\n",
              "      const channel = await google.colab.kernel.comms.open(id);\n",
              "      // Send a message to notify the kernel that we're ready.\n",
              "      channel.send({})\n",
              "\n",
              "      for await (const message of channel.messages) {\n",
              "        // Send a message to notify the kernel that we're ready.\n",
              "        channel.send({})\n",
              "        if (message.buffers) {\n",
              "          for (const buffer of message.buffers) {\n",
              "            buffers.push(buffer);\n",
              "            downloaded += buffer.byteLength;\n",
              "            progress.value = downloaded;\n",
              "          }\n",
              "        }\n",
              "      }\n",
              "      const blob = new Blob(buffers, {type: 'application/binary'});\n",
              "      const a = document.createElement('a');\n",
              "      a.href = window.URL.createObjectURL(blob);\n",
              "      a.download = filename;\n",
              "      div.appendChild(a);\n",
              "      a.click();\n",
              "      div.remove();\n",
              "    }\n",
              "  "
            ],
            "text/plain": [
              "<IPython.core.display.Javascript object>"
            ]
          },
          "metadata": {
            "tags": []
          }
        },
        {
          "output_type": "display_data",
          "data": {
            "application/javascript": [
              "download(\"download_42f14347-9b06-47ec-957f-4fe8ffa17ebc\", \"res3.csv\", 108651)"
            ],
            "text/plain": [
              "<IPython.core.display.Javascript object>"
            ]
          },
          "metadata": {
            "tags": []
          }
        }
      ]
    }
  ]
}