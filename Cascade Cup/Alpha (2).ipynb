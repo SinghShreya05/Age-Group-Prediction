{
  "nbformat": 4,
  "nbformat_minor": 0,
  "metadata": {
    "colab": {
      "name": "Alpha.ipynb",
      "provenance": [],
      "collapsed_sections": []
    },
    "kernelspec": {
      "name": "python3",
      "display_name": "Python 3"
    },
    "accelerator": "GPU"
  },
  "cells": [
    {
      "cell_type": "code",
      "metadata": {
        "id": "63XD_BNJvO9y"
      },
      "source": [
        "import pandas as pd\r\n",
        "import numpy as np\r\n",
        "import matplotlib.pyplot as plt\r\n",
        "import seaborn as sns\r\n",
        "import sklearn\r\n",
        "from xgboost import XGBClassifier\r\n",
        "from sklearn.model_selection import train_test_split\r\n",
        "from sklearn import metrics"
      ],
      "execution_count": 86,
      "outputs": []
    },
    {
      "cell_type": "code",
      "metadata": {
        "id": "eQzP8fM6vlaS"
      },
      "source": [
        "train=pd.read_csv('/content/drive/MyDrive/train_age_dataset.csv')\r\n",
        "test=pd.read_csv('/content/drive/MyDrive/test_age_dataset.csv')\r\n",
        "test.drop(['Unnamed: 0','userId'],axis=1,inplace=True)\r\n",
        "train.drop(['Unnamed: 0','userId'],axis=1,inplace=True)"
      ],
      "execution_count": 87,
      "outputs": []
    },
    {
      "cell_type": "code",
      "metadata": {
        "colab": {
          "base_uri": "https://localhost:8080/",
          "height": 127
        },
        "id": "z4w67jJRwB9w",
        "outputId": "03a09926-64c4-40d2-e9aa-97633d56bca0"
      },
      "source": [
        "train.head(2)"
      ],
      "execution_count": 88,
      "outputs": [
        {
          "output_type": "execute_result",
          "data": {
            "text/html": [
              "<div>\n",
              "<style scoped>\n",
              "    .dataframe tbody tr th:only-of-type {\n",
              "        vertical-align: middle;\n",
              "    }\n",
              "\n",
              "    .dataframe tbody tr th {\n",
              "        vertical-align: top;\n",
              "    }\n",
              "\n",
              "    .dataframe thead th {\n",
              "        text-align: right;\n",
              "    }\n",
              "</style>\n",
              "<table border=\"1\" class=\"dataframe\">\n",
              "  <thead>\n",
              "    <tr style=\"text-align: right;\">\n",
              "      <th></th>\n",
              "      <th>tier</th>\n",
              "      <th>gender</th>\n",
              "      <th>following_rate</th>\n",
              "      <th>followers_avg_age</th>\n",
              "      <th>following_avg_age</th>\n",
              "      <th>max_repetitive_punc</th>\n",
              "      <th>num_of_hashtags_per_action</th>\n",
              "      <th>emoji_count_per_action</th>\n",
              "      <th>punctuations_per_action</th>\n",
              "      <th>number_of_words_per_action</th>\n",
              "      <th>avgCompletion</th>\n",
              "      <th>avgTimeSpent</th>\n",
              "      <th>avgDuration</th>\n",
              "      <th>avgComments</th>\n",
              "      <th>creations</th>\n",
              "      <th>content_views</th>\n",
              "      <th>num_of_comments</th>\n",
              "      <th>weekends_trails_watched_per_day</th>\n",
              "      <th>weekdays_trails_watched_per_day</th>\n",
              "      <th>slot1_trails_watched_per_day</th>\n",
              "      <th>slot2_trails_watched_per_day</th>\n",
              "      <th>slot3_trails_watched_per_day</th>\n",
              "      <th>slot4_trails_watched_per_day</th>\n",
              "      <th>avgt2</th>\n",
              "      <th>age_group</th>\n",
              "    </tr>\n",
              "  </thead>\n",
              "  <tbody>\n",
              "    <tr>\n",
              "      <th>0</th>\n",
              "      <td>2</td>\n",
              "      <td>1</td>\n",
              "      <td>0.0</td>\n",
              "      <td>0.0</td>\n",
              "      <td>0.0</td>\n",
              "      <td>0</td>\n",
              "      <td>0.0</td>\n",
              "      <td>0.0</td>\n",
              "      <td>0.000000</td>\n",
              "      <td>0.000000</td>\n",
              "      <td>0.463330</td>\n",
              "      <td>34.160000</td>\n",
              "      <td>53.996091</td>\n",
              "      <td>0</td>\n",
              "      <td>0.000000</td>\n",
              "      <td>0.20000</td>\n",
              "      <td>0.0</td>\n",
              "      <td>0.041667</td>\n",
              "      <td>0.025000</td>\n",
              "      <td>0.0</td>\n",
              "      <td>0.000000</td>\n",
              "      <td>0.175</td>\n",
              "      <td>0.033333</td>\n",
              "      <td>0.0</td>\n",
              "      <td>1</td>\n",
              "    </tr>\n",
              "    <tr>\n",
              "      <th>1</th>\n",
              "      <td>2</td>\n",
              "      <td>2</td>\n",
              "      <td>0.0</td>\n",
              "      <td>0.0</td>\n",
              "      <td>0.0</td>\n",
              "      <td>0</td>\n",
              "      <td>0.0</td>\n",
              "      <td>0.0</td>\n",
              "      <td>0.076923</td>\n",
              "      <td>0.153846</td>\n",
              "      <td>0.429468</td>\n",
              "      <td>15.285714</td>\n",
              "      <td>96.231625</td>\n",
              "      <td>0</td>\n",
              "      <td>0.008475</td>\n",
              "      <td>0.09322</td>\n",
              "      <td>0.0</td>\n",
              "      <td>0.012712</td>\n",
              "      <td>0.018644</td>\n",
              "      <td>0.0</td>\n",
              "      <td>0.084746</td>\n",
              "      <td>0.000</td>\n",
              "      <td>0.033898</td>\n",
              "      <td>82.5</td>\n",
              "      <td>2</td>\n",
              "    </tr>\n",
              "  </tbody>\n",
              "</table>\n",
              "</div>"
            ],
            "text/plain": [
              "   tier  gender  following_rate  ...  slot4_trails_watched_per_day  avgt2  age_group\n",
              "0     2       1             0.0  ...                      0.033333    0.0          1\n",
              "1     2       2             0.0  ...                      0.033898   82.5          2\n",
              "\n",
              "[2 rows x 25 columns]"
            ]
          },
          "metadata": {
            "tags": []
          },
          "execution_count": 88
        }
      ]
    },
    {
      "cell_type": "code",
      "metadata": {
        "colab": {
          "base_uri": "https://localhost:8080/",
          "height": 127
        },
        "id": "YrYmWAXmwTCy",
        "outputId": "2f89a012-13ba-4ed7-962d-af9e8d6426b8"
      },
      "source": [
        "test.head(2)"
      ],
      "execution_count": 89,
      "outputs": [
        {
          "output_type": "execute_result",
          "data": {
            "text/html": [
              "<div>\n",
              "<style scoped>\n",
              "    .dataframe tbody tr th:only-of-type {\n",
              "        vertical-align: middle;\n",
              "    }\n",
              "\n",
              "    .dataframe tbody tr th {\n",
              "        vertical-align: top;\n",
              "    }\n",
              "\n",
              "    .dataframe thead th {\n",
              "        text-align: right;\n",
              "    }\n",
              "</style>\n",
              "<table border=\"1\" class=\"dataframe\">\n",
              "  <thead>\n",
              "    <tr style=\"text-align: right;\">\n",
              "      <th></th>\n",
              "      <th>tier</th>\n",
              "      <th>gender</th>\n",
              "      <th>following_rate</th>\n",
              "      <th>followers_avg_age</th>\n",
              "      <th>following_avg_age</th>\n",
              "      <th>max_repetitive_punc</th>\n",
              "      <th>num_of_hashtags_per_action</th>\n",
              "      <th>emoji_count_per_action</th>\n",
              "      <th>punctuations_per_action</th>\n",
              "      <th>number_of_words_per_action</th>\n",
              "      <th>avgCompletion</th>\n",
              "      <th>avgTimeSpent</th>\n",
              "      <th>avgDuration</th>\n",
              "      <th>avgComments</th>\n",
              "      <th>creations</th>\n",
              "      <th>content_views</th>\n",
              "      <th>num_of_comments</th>\n",
              "      <th>weekends_trails_watched_per_day</th>\n",
              "      <th>weekdays_trails_watched_per_day</th>\n",
              "      <th>slot1_trails_watched_per_day</th>\n",
              "      <th>slot2_trails_watched_per_day</th>\n",
              "      <th>slot3_trails_watched_per_day</th>\n",
              "      <th>slot4_trails_watched_per_day</th>\n",
              "      <th>avgt2</th>\n",
              "    </tr>\n",
              "  </thead>\n",
              "  <tbody>\n",
              "    <tr>\n",
              "      <th>0</th>\n",
              "      <td>2</td>\n",
              "      <td>1</td>\n",
              "      <td>0.000000</td>\n",
              "      <td>0.0</td>\n",
              "      <td>0.0</td>\n",
              "      <td>0</td>\n",
              "      <td>0.0</td>\n",
              "      <td>0.0</td>\n",
              "      <td>0.0</td>\n",
              "      <td>0.0</td>\n",
              "      <td>0.033242</td>\n",
              "      <td>4.5</td>\n",
              "      <td>120.313571</td>\n",
              "      <td>0</td>\n",
              "      <td>0.0</td>\n",
              "      <td>0.062992</td>\n",
              "      <td>0.0</td>\n",
              "      <td>0.0</td>\n",
              "      <td>0.012598</td>\n",
              "      <td>0.0</td>\n",
              "      <td>0.0</td>\n",
              "      <td>0.062992</td>\n",
              "      <td>0.0</td>\n",
              "      <td>0.0</td>\n",
              "    </tr>\n",
              "    <tr>\n",
              "      <th>1</th>\n",
              "      <td>2</td>\n",
              "      <td>1</td>\n",
              "      <td>0.001818</td>\n",
              "      <td>0.0</td>\n",
              "      <td>0.0</td>\n",
              "      <td>0</td>\n",
              "      <td>0.0</td>\n",
              "      <td>0.0</td>\n",
              "      <td>0.0</td>\n",
              "      <td>0.0</td>\n",
              "      <td>0.051057</td>\n",
              "      <td>9.5</td>\n",
              "      <td>188.615500</td>\n",
              "      <td>0</td>\n",
              "      <td>0.0</td>\n",
              "      <td>0.003636</td>\n",
              "      <td>0.0</td>\n",
              "      <td>0.0</td>\n",
              "      <td>0.000727</td>\n",
              "      <td>0.0</td>\n",
              "      <td>0.0</td>\n",
              "      <td>0.003636</td>\n",
              "      <td>0.0</td>\n",
              "      <td>0.0</td>\n",
              "    </tr>\n",
              "  </tbody>\n",
              "</table>\n",
              "</div>"
            ],
            "text/plain": [
              "   tier  gender  ...  slot4_trails_watched_per_day  avgt2\n",
              "0     2       1  ...                           0.0    0.0\n",
              "1     2       1  ...                           0.0    0.0\n",
              "\n",
              "[2 rows x 24 columns]"
            ]
          },
          "metadata": {
            "tags": []
          },
          "execution_count": 89
        }
      ]
    },
    {
      "cell_type": "code",
      "metadata": {
        "colab": {
          "base_uri": "https://localhost:8080/",
          "height": 307
        },
        "id": "UFYw4s5mwVtM",
        "outputId": "1053a64c-2060-47ce-afd8-63d85fe61336"
      },
      "source": [
        "train.describe()"
      ],
      "execution_count": 90,
      "outputs": [
        {
          "output_type": "execute_result",
          "data": {
            "text/html": [
              "<div>\n",
              "<style scoped>\n",
              "    .dataframe tbody tr th:only-of-type {\n",
              "        vertical-align: middle;\n",
              "    }\n",
              "\n",
              "    .dataframe tbody tr th {\n",
              "        vertical-align: top;\n",
              "    }\n",
              "\n",
              "    .dataframe thead th {\n",
              "        text-align: right;\n",
              "    }\n",
              "</style>\n",
              "<table border=\"1\" class=\"dataframe\">\n",
              "  <thead>\n",
              "    <tr style=\"text-align: right;\">\n",
              "      <th></th>\n",
              "      <th>tier</th>\n",
              "      <th>gender</th>\n",
              "      <th>following_rate</th>\n",
              "      <th>followers_avg_age</th>\n",
              "      <th>following_avg_age</th>\n",
              "      <th>max_repetitive_punc</th>\n",
              "      <th>num_of_hashtags_per_action</th>\n",
              "      <th>emoji_count_per_action</th>\n",
              "      <th>punctuations_per_action</th>\n",
              "      <th>number_of_words_per_action</th>\n",
              "      <th>avgCompletion</th>\n",
              "      <th>avgTimeSpent</th>\n",
              "      <th>avgDuration</th>\n",
              "      <th>avgComments</th>\n",
              "      <th>creations</th>\n",
              "      <th>content_views</th>\n",
              "      <th>num_of_comments</th>\n",
              "      <th>weekends_trails_watched_per_day</th>\n",
              "      <th>weekdays_trails_watched_per_day</th>\n",
              "      <th>slot1_trails_watched_per_day</th>\n",
              "      <th>slot2_trails_watched_per_day</th>\n",
              "      <th>slot3_trails_watched_per_day</th>\n",
              "      <th>slot4_trails_watched_per_day</th>\n",
              "      <th>avgt2</th>\n",
              "      <th>age_group</th>\n",
              "    </tr>\n",
              "  </thead>\n",
              "  <tbody>\n",
              "    <tr>\n",
              "      <th>count</th>\n",
              "      <td>488877.000000</td>\n",
              "      <td>488877.000000</td>\n",
              "      <td>488877.000000</td>\n",
              "      <td>488877.000000</td>\n",
              "      <td>488877.000000</td>\n",
              "      <td>488877.000000</td>\n",
              "      <td>488877.000000</td>\n",
              "      <td>488877.000000</td>\n",
              "      <td>488877.000000</td>\n",
              "      <td>488877.000000</td>\n",
              "      <td>488877.000000</td>\n",
              "      <td>4.888770e+05</td>\n",
              "      <td>488877.000000</td>\n",
              "      <td>488877.000000</td>\n",
              "      <td>488877.000000</td>\n",
              "      <td>488877.000000</td>\n",
              "      <td>488877.000000</td>\n",
              "      <td>488877.000000</td>\n",
              "      <td>488877.000000</td>\n",
              "      <td>488877.000000</td>\n",
              "      <td>488877.000000</td>\n",
              "      <td>488877.000000</td>\n",
              "      <td>488877.000000</td>\n",
              "      <td>488877.000000</td>\n",
              "      <td>488877.000000</td>\n",
              "    </tr>\n",
              "    <tr>\n",
              "      <th>mean</th>\n",
              "      <td>1.975382</td>\n",
              "      <td>1.213037</td>\n",
              "      <td>0.082233</td>\n",
              "      <td>0.347520</td>\n",
              "      <td>0.403049</td>\n",
              "      <td>0.739748</td>\n",
              "      <td>0.000277</td>\n",
              "      <td>0.000981</td>\n",
              "      <td>0.012805</td>\n",
              "      <td>0.179148</td>\n",
              "      <td>0.341582</td>\n",
              "      <td>1.087395e+02</td>\n",
              "      <td>83.104654</td>\n",
              "      <td>0.320923</td>\n",
              "      <td>0.017065</td>\n",
              "      <td>0.391013</td>\n",
              "      <td>0.002009</td>\n",
              "      <td>0.074353</td>\n",
              "      <td>0.066927</td>\n",
              "      <td>0.032855</td>\n",
              "      <td>0.141705</td>\n",
              "      <td>0.150401</td>\n",
              "      <td>0.158382</td>\n",
              "      <td>164.765782</td>\n",
              "      <td>1.741643</td>\n",
              "    </tr>\n",
              "    <tr>\n",
              "      <th>std</th>\n",
              "      <td>0.430707</td>\n",
              "      <td>0.409454</td>\n",
              "      <td>2.467781</td>\n",
              "      <td>0.816334</td>\n",
              "      <td>0.925291</td>\n",
              "      <td>3.075954</td>\n",
              "      <td>0.012221</td>\n",
              "      <td>0.020381</td>\n",
              "      <td>0.159553</td>\n",
              "      <td>0.647588</td>\n",
              "      <td>0.195441</td>\n",
              "      <td>5.537516e+04</td>\n",
              "      <td>76.779586</td>\n",
              "      <td>7.649827</td>\n",
              "      <td>0.180402</td>\n",
              "      <td>0.905303</td>\n",
              "      <td>0.030561</td>\n",
              "      <td>0.211094</td>\n",
              "      <td>0.174791</td>\n",
              "      <td>0.193962</td>\n",
              "      <td>0.402612</td>\n",
              "      <td>0.451999</td>\n",
              "      <td>0.502065</td>\n",
              "      <td>981.988886</td>\n",
              "      <td>1.088559</td>\n",
              "    </tr>\n",
              "    <tr>\n",
              "      <th>min</th>\n",
              "      <td>1.000000</td>\n",
              "      <td>1.000000</td>\n",
              "      <td>0.000000</td>\n",
              "      <td>0.000000</td>\n",
              "      <td>0.000000</td>\n",
              "      <td>0.000000</td>\n",
              "      <td>0.000000</td>\n",
              "      <td>0.000000</td>\n",
              "      <td>0.000000</td>\n",
              "      <td>0.000000</td>\n",
              "      <td>0.000653</td>\n",
              "      <td>1.000000e+00</td>\n",
              "      <td>0.233000</td>\n",
              "      <td>0.000000</td>\n",
              "      <td>0.000000</td>\n",
              "      <td>0.000887</td>\n",
              "      <td>0.000000</td>\n",
              "      <td>0.000000</td>\n",
              "      <td>0.000000</td>\n",
              "      <td>0.000000</td>\n",
              "      <td>0.000000</td>\n",
              "      <td>0.000000</td>\n",
              "      <td>0.000000</td>\n",
              "      <td>0.000000</td>\n",
              "      <td>1.000000</td>\n",
              "    </tr>\n",
              "    <tr>\n",
              "      <th>25%</th>\n",
              "      <td>2.000000</td>\n",
              "      <td>1.000000</td>\n",
              "      <td>0.000000</td>\n",
              "      <td>0.000000</td>\n",
              "      <td>0.000000</td>\n",
              "      <td>0.000000</td>\n",
              "      <td>0.000000</td>\n",
              "      <td>0.000000</td>\n",
              "      <td>0.000000</td>\n",
              "      <td>0.000000</td>\n",
              "      <td>0.199675</td>\n",
              "      <td>5.655172e+00</td>\n",
              "      <td>30.724000</td>\n",
              "      <td>0.000000</td>\n",
              "      <td>0.000000</td>\n",
              "      <td>0.040650</td>\n",
              "      <td>0.000000</td>\n",
              "      <td>0.000000</td>\n",
              "      <td>0.002265</td>\n",
              "      <td>0.000000</td>\n",
              "      <td>0.000000</td>\n",
              "      <td>0.000000</td>\n",
              "      <td>0.000000</td>\n",
              "      <td>0.000000</td>\n",
              "      <td>1.000000</td>\n",
              "    </tr>\n",
              "    <tr>\n",
              "      <th>50%</th>\n",
              "      <td>2.000000</td>\n",
              "      <td>1.000000</td>\n",
              "      <td>0.000000</td>\n",
              "      <td>0.000000</td>\n",
              "      <td>0.000000</td>\n",
              "      <td>0.000000</td>\n",
              "      <td>0.000000</td>\n",
              "      <td>0.000000</td>\n",
              "      <td>0.000000</td>\n",
              "      <td>0.000000</td>\n",
              "      <td>0.329743</td>\n",
              "      <td>8.500000e+00</td>\n",
              "      <td>62.501164</td>\n",
              "      <td>0.000000</td>\n",
              "      <td>0.000000</td>\n",
              "      <td>0.124031</td>\n",
              "      <td>0.000000</td>\n",
              "      <td>0.003968</td>\n",
              "      <td>0.015873</td>\n",
              "      <td>0.000000</td>\n",
              "      <td>0.011834</td>\n",
              "      <td>0.014563</td>\n",
              "      <td>0.015873</td>\n",
              "      <td>0.000000</td>\n",
              "      <td>1.000000</td>\n",
              "    </tr>\n",
              "    <tr>\n",
              "      <th>75%</th>\n",
              "      <td>2.000000</td>\n",
              "      <td>1.000000</td>\n",
              "      <td>0.008621</td>\n",
              "      <td>0.000000</td>\n",
              "      <td>0.000000</td>\n",
              "      <td>0.000000</td>\n",
              "      <td>0.000000</td>\n",
              "      <td>0.000000</td>\n",
              "      <td>0.000000</td>\n",
              "      <td>0.150183</td>\n",
              "      <td>0.460492</td>\n",
              "      <td>1.308654e+01</td>\n",
              "      <td>112.246500</td>\n",
              "      <td>0.000000</td>\n",
              "      <td>0.009091</td>\n",
              "      <td>0.364486</td>\n",
              "      <td>0.000000</td>\n",
              "      <td>0.060000</td>\n",
              "      <td>0.059016</td>\n",
              "      <td>0.000000</td>\n",
              "      <td>0.117188</td>\n",
              "      <td>0.118644</td>\n",
              "      <td>0.122396</td>\n",
              "      <td>178.666667</td>\n",
              "      <td>2.000000</td>\n",
              "    </tr>\n",
              "    <tr>\n",
              "      <th>max</th>\n",
              "      <td>3.000000</td>\n",
              "      <td>2.000000</td>\n",
              "      <td>895.304000</td>\n",
              "      <td>4.000000</td>\n",
              "      <td>4.000000</td>\n",
              "      <td>624.000000</td>\n",
              "      <td>2.333333</td>\n",
              "      <td>3.000000</td>\n",
              "      <td>27.333333</td>\n",
              "      <td>262.666667</td>\n",
              "      <td>1.000000</td>\n",
              "      <td>3.826604e+07</td>\n",
              "      <td>7541.026000</td>\n",
              "      <td>3228.000000</td>\n",
              "      <td>63.388889</td>\n",
              "      <td>75.662281</td>\n",
              "      <td>8.196850</td>\n",
              "      <td>17.201754</td>\n",
              "      <td>18.756140</td>\n",
              "      <td>19.612903</td>\n",
              "      <td>27.905983</td>\n",
              "      <td>45.083333</td>\n",
              "      <td>55.153846</td>\n",
              "      <td>39304.000000</td>\n",
              "      <td>4.000000</td>\n",
              "    </tr>\n",
              "  </tbody>\n",
              "</table>\n",
              "</div>"
            ],
            "text/plain": [
              "                tier         gender  ...          avgt2      age_group\n",
              "count  488877.000000  488877.000000  ...  488877.000000  488877.000000\n",
              "mean        1.975382       1.213037  ...     164.765782       1.741643\n",
              "std         0.430707       0.409454  ...     981.988886       1.088559\n",
              "min         1.000000       1.000000  ...       0.000000       1.000000\n",
              "25%         2.000000       1.000000  ...       0.000000       1.000000\n",
              "50%         2.000000       1.000000  ...       0.000000       1.000000\n",
              "75%         2.000000       1.000000  ...     178.666667       2.000000\n",
              "max         3.000000       2.000000  ...   39304.000000       4.000000\n",
              "\n",
              "[8 rows x 25 columns]"
            ]
          },
          "metadata": {
            "tags": []
          },
          "execution_count": 90
        }
      ]
    },
    {
      "cell_type": "code",
      "metadata": {
        "colab": {
          "base_uri": "https://localhost:8080/",
          "height": 307
        },
        "id": "XItxI1lGwhTR",
        "outputId": "21ddf213-3efc-443b-fddc-3d057c93e184"
      },
      "source": [
        "test.describe()"
      ],
      "execution_count": 91,
      "outputs": [
        {
          "output_type": "execute_result",
          "data": {
            "text/html": [
              "<div>\n",
              "<style scoped>\n",
              "    .dataframe tbody tr th:only-of-type {\n",
              "        vertical-align: middle;\n",
              "    }\n",
              "\n",
              "    .dataframe tbody tr th {\n",
              "        vertical-align: top;\n",
              "    }\n",
              "\n",
              "    .dataframe thead th {\n",
              "        text-align: right;\n",
              "    }\n",
              "</style>\n",
              "<table border=\"1\" class=\"dataframe\">\n",
              "  <thead>\n",
              "    <tr style=\"text-align: right;\">\n",
              "      <th></th>\n",
              "      <th>tier</th>\n",
              "      <th>gender</th>\n",
              "      <th>following_rate</th>\n",
              "      <th>followers_avg_age</th>\n",
              "      <th>following_avg_age</th>\n",
              "      <th>max_repetitive_punc</th>\n",
              "      <th>num_of_hashtags_per_action</th>\n",
              "      <th>emoji_count_per_action</th>\n",
              "      <th>punctuations_per_action</th>\n",
              "      <th>number_of_words_per_action</th>\n",
              "      <th>avgCompletion</th>\n",
              "      <th>avgTimeSpent</th>\n",
              "      <th>avgDuration</th>\n",
              "      <th>avgComments</th>\n",
              "      <th>creations</th>\n",
              "      <th>content_views</th>\n",
              "      <th>num_of_comments</th>\n",
              "      <th>weekends_trails_watched_per_day</th>\n",
              "      <th>weekdays_trails_watched_per_day</th>\n",
              "      <th>slot1_trails_watched_per_day</th>\n",
              "      <th>slot2_trails_watched_per_day</th>\n",
              "      <th>slot3_trails_watched_per_day</th>\n",
              "      <th>slot4_trails_watched_per_day</th>\n",
              "      <th>avgt2</th>\n",
              "    </tr>\n",
              "  </thead>\n",
              "  <tbody>\n",
              "    <tr>\n",
              "      <th>count</th>\n",
              "      <td>54320.000000</td>\n",
              "      <td>54320.000000</td>\n",
              "      <td>54320.000000</td>\n",
              "      <td>54320.000000</td>\n",
              "      <td>54320.000000</td>\n",
              "      <td>54320.000000</td>\n",
              "      <td>54320.000000</td>\n",
              "      <td>54320.000000</td>\n",
              "      <td>54320.000000</td>\n",
              "      <td>54320.000000</td>\n",
              "      <td>54320.000000</td>\n",
              "      <td>54320.000000</td>\n",
              "      <td>54320.000000</td>\n",
              "      <td>54320.000000</td>\n",
              "      <td>54320.000000</td>\n",
              "      <td>54320.000000</td>\n",
              "      <td>54320.000000</td>\n",
              "      <td>54320.000000</td>\n",
              "      <td>54320.000000</td>\n",
              "      <td>54320.000000</td>\n",
              "      <td>54320.000000</td>\n",
              "      <td>54320.000000</td>\n",
              "      <td>54320.000000</td>\n",
              "      <td>54320.000000</td>\n",
              "    </tr>\n",
              "    <tr>\n",
              "      <th>mean</th>\n",
              "      <td>1.976105</td>\n",
              "      <td>1.211856</td>\n",
              "      <td>0.081204</td>\n",
              "      <td>0.344033</td>\n",
              "      <td>0.397432</td>\n",
              "      <td>0.734794</td>\n",
              "      <td>0.000357</td>\n",
              "      <td>0.000909</td>\n",
              "      <td>0.012117</td>\n",
              "      <td>0.178509</td>\n",
              "      <td>0.342335</td>\n",
              "      <td>18.350892</td>\n",
              "      <td>82.572262</td>\n",
              "      <td>0.322202</td>\n",
              "      <td>0.017718</td>\n",
              "      <td>0.393404</td>\n",
              "      <td>0.002133</td>\n",
              "      <td>0.075402</td>\n",
              "      <td>0.067343</td>\n",
              "      <td>0.032848</td>\n",
              "      <td>0.141784</td>\n",
              "      <td>0.152749</td>\n",
              "      <td>0.160141</td>\n",
              "      <td>158.286032</td>\n",
              "    </tr>\n",
              "    <tr>\n",
              "      <th>std</th>\n",
              "      <td>0.431142</td>\n",
              "      <td>0.408627</td>\n",
              "      <td>3.103205</td>\n",
              "      <td>0.813081</td>\n",
              "      <td>0.917988</td>\n",
              "      <td>2.822803</td>\n",
              "      <td>0.015529</td>\n",
              "      <td>0.017456</td>\n",
              "      <td>0.130576</td>\n",
              "      <td>0.600530</td>\n",
              "      <td>0.196584</td>\n",
              "      <td>245.222420</td>\n",
              "      <td>73.912128</td>\n",
              "      <td>4.606317</td>\n",
              "      <td>0.156423</td>\n",
              "      <td>0.929538</td>\n",
              "      <td>0.031136</td>\n",
              "      <td>0.212199</td>\n",
              "      <td>0.179688</td>\n",
              "      <td>0.175984</td>\n",
              "      <td>0.396400</td>\n",
              "      <td>0.481607</td>\n",
              "      <td>0.502513</td>\n",
              "      <td>920.210984</td>\n",
              "    </tr>\n",
              "    <tr>\n",
              "      <th>min</th>\n",
              "      <td>1.000000</td>\n",
              "      <td>1.000000</td>\n",
              "      <td>0.000000</td>\n",
              "      <td>0.000000</td>\n",
              "      <td>0.000000</td>\n",
              "      <td>0.000000</td>\n",
              "      <td>0.000000</td>\n",
              "      <td>0.000000</td>\n",
              "      <td>0.000000</td>\n",
              "      <td>0.000000</td>\n",
              "      <td>0.000628</td>\n",
              "      <td>1.000000</td>\n",
              "      <td>0.767000</td>\n",
              "      <td>0.000000</td>\n",
              "      <td>0.000000</td>\n",
              "      <td>0.000873</td>\n",
              "      <td>0.000000</td>\n",
              "      <td>0.000000</td>\n",
              "      <td>0.000000</td>\n",
              "      <td>0.000000</td>\n",
              "      <td>0.000000</td>\n",
              "      <td>0.000000</td>\n",
              "      <td>0.000000</td>\n",
              "      <td>0.000000</td>\n",
              "    </tr>\n",
              "    <tr>\n",
              "      <th>25%</th>\n",
              "      <td>2.000000</td>\n",
              "      <td>1.000000</td>\n",
              "      <td>0.000000</td>\n",
              "      <td>0.000000</td>\n",
              "      <td>0.000000</td>\n",
              "      <td>0.000000</td>\n",
              "      <td>0.000000</td>\n",
              "      <td>0.000000</td>\n",
              "      <td>0.000000</td>\n",
              "      <td>0.000000</td>\n",
              "      <td>0.199768</td>\n",
              "      <td>5.651071</td>\n",
              "      <td>30.447950</td>\n",
              "      <td>0.000000</td>\n",
              "      <td>0.000000</td>\n",
              "      <td>0.040816</td>\n",
              "      <td>0.000000</td>\n",
              "      <td>0.000000</td>\n",
              "      <td>0.002243</td>\n",
              "      <td>0.000000</td>\n",
              "      <td>0.000000</td>\n",
              "      <td>0.000000</td>\n",
              "      <td>0.000000</td>\n",
              "      <td>0.000000</td>\n",
              "    </tr>\n",
              "    <tr>\n",
              "      <th>50%</th>\n",
              "      <td>2.000000</td>\n",
              "      <td>1.000000</td>\n",
              "      <td>0.000000</td>\n",
              "      <td>0.000000</td>\n",
              "      <td>0.000000</td>\n",
              "      <td>0.000000</td>\n",
              "      <td>0.000000</td>\n",
              "      <td>0.000000</td>\n",
              "      <td>0.000000</td>\n",
              "      <td>0.000000</td>\n",
              "      <td>0.329771</td>\n",
              "      <td>8.500000</td>\n",
              "      <td>62.443638</td>\n",
              "      <td>0.000000</td>\n",
              "      <td>0.000000</td>\n",
              "      <td>0.125000</td>\n",
              "      <td>0.000000</td>\n",
              "      <td>0.003968</td>\n",
              "      <td>0.015789</td>\n",
              "      <td>0.000000</td>\n",
              "      <td>0.011628</td>\n",
              "      <td>0.014493</td>\n",
              "      <td>0.015873</td>\n",
              "      <td>0.000000</td>\n",
              "    </tr>\n",
              "    <tr>\n",
              "      <th>75%</th>\n",
              "      <td>2.000000</td>\n",
              "      <td>1.000000</td>\n",
              "      <td>0.008621</td>\n",
              "      <td>0.000000</td>\n",
              "      <td>0.000000</td>\n",
              "      <td>0.000000</td>\n",
              "      <td>0.000000</td>\n",
              "      <td>0.000000</td>\n",
              "      <td>0.000000</td>\n",
              "      <td>0.147100</td>\n",
              "      <td>0.460882</td>\n",
              "      <td>13.079052</td>\n",
              "      <td>112.135575</td>\n",
              "      <td>0.000000</td>\n",
              "      <td>0.009009</td>\n",
              "      <td>0.364427</td>\n",
              "      <td>0.000000</td>\n",
              "      <td>0.060000</td>\n",
              "      <td>0.058333</td>\n",
              "      <td>0.000000</td>\n",
              "      <td>0.117647</td>\n",
              "      <td>0.117647</td>\n",
              "      <td>0.125000</td>\n",
              "      <td>178.714286</td>\n",
              "    </tr>\n",
              "    <tr>\n",
              "      <th>max</th>\n",
              "      <td>3.000000</td>\n",
              "      <td>2.000000</td>\n",
              "      <td>685.277778</td>\n",
              "      <td>4.000000</td>\n",
              "      <td>4.000000</td>\n",
              "      <td>130.000000</td>\n",
              "      <td>2.333333</td>\n",
              "      <td>1.692308</td>\n",
              "      <td>12.500000</td>\n",
              "      <td>65.800000</td>\n",
              "      <td>1.000000</td>\n",
              "      <td>48286.500000</td>\n",
              "      <td>1600.786667</td>\n",
              "      <td>549.000000</td>\n",
              "      <td>16.915254</td>\n",
              "      <td>34.030303</td>\n",
              "      <td>4.575000</td>\n",
              "      <td>8.897959</td>\n",
              "      <td>8.672727</td>\n",
              "      <td>12.440000</td>\n",
              "      <td>17.060606</td>\n",
              "      <td>24.122449</td>\n",
              "      <td>22.096774</td>\n",
              "      <td>28474.333330</td>\n",
              "    </tr>\n",
              "  </tbody>\n",
              "</table>\n",
              "</div>"
            ],
            "text/plain": [
              "               tier        gender  ...  slot4_trails_watched_per_day         avgt2\n",
              "count  54320.000000  54320.000000  ...                  54320.000000  54320.000000\n",
              "mean       1.976105      1.211856  ...                      0.160141    158.286032\n",
              "std        0.431142      0.408627  ...                      0.502513    920.210984\n",
              "min        1.000000      1.000000  ...                      0.000000      0.000000\n",
              "25%        2.000000      1.000000  ...                      0.000000      0.000000\n",
              "50%        2.000000      1.000000  ...                      0.015873      0.000000\n",
              "75%        2.000000      1.000000  ...                      0.125000    178.714286\n",
              "max        3.000000      2.000000  ...                     22.096774  28474.333330\n",
              "\n",
              "[8 rows x 24 columns]"
            ]
          },
          "metadata": {
            "tags": []
          },
          "execution_count": 91
        }
      ]
    },
    {
      "cell_type": "code",
      "metadata": {
        "colab": {
          "base_uri": "https://localhost:8080/"
        },
        "id": "6dDJkTApDTro",
        "outputId": "ea1f102e-14a2-43fa-8130-872813798358"
      },
      "source": [
        "train['avgTimeSpent'].max()"
      ],
      "execution_count": 92,
      "outputs": [
        {
          "output_type": "execute_result",
          "data": {
            "text/plain": [
              "38266041.44"
            ]
          },
          "metadata": {
            "tags": []
          },
          "execution_count": 92
        }
      ]
    },
    {
      "cell_type": "code",
      "metadata": {
        "id": "pYk66XBpwl-7"
      },
      "source": [
        "df_avgtime=train.copy()\r\n",
        "df_avgtime1 = [x for x in df_avgtime['avgTimeSpent'] if x >= test['avgTimeSpent'].min() and x <= .5e+07 ]"
      ],
      "execution_count": 93,
      "outputs": []
    },
    {
      "cell_type": "code",
      "metadata": {
        "colab": {
          "base_uri": "https://localhost:8080/"
        },
        "id": "L6F0_7l-Fpg8",
        "outputId": "3f2a2654-6bb8-46d5-b24f-1f0198509ae4"
      },
      "source": [
        "len(df_avgtime1)"
      ],
      "execution_count": 94,
      "outputs": [
        {
          "output_type": "execute_result",
          "data": {
            "text/plain": [
              "488875"
            ]
          },
          "metadata": {
            "tags": []
          },
          "execution_count": 94
        }
      ]
    },
    {
      "cell_type": "code",
      "metadata": {
        "colab": {
          "base_uri": "https://localhost:8080/"
        },
        "id": "kF3j5Xf7F0Oj",
        "outputId": "8a9868bb-7831-4082-8e14-73f1dfd1135b"
      },
      "source": [
        "train.shape"
      ],
      "execution_count": 95,
      "outputs": [
        {
          "output_type": "execute_result",
          "data": {
            "text/plain": [
              "(488877, 25)"
            ]
          },
          "metadata": {
            "tags": []
          },
          "execution_count": 95
        }
      ]
    },
    {
      "cell_type": "code",
      "metadata": {
        "colab": {
          "base_uri": "https://localhost:8080/"
        },
        "id": "J08UdNoVGCv9",
        "outputId": "994b080a-5105-45cb-a31c-e7575a96f7da"
      },
      "source": [
        "test['avgTimeSpent'].max()"
      ],
      "execution_count": 96,
      "outputs": [
        {
          "output_type": "execute_result",
          "data": {
            "text/plain": [
              "48286.5"
            ]
          },
          "metadata": {
            "tags": []
          },
          "execution_count": 96
        }
      ]
    },
    {
      "cell_type": "code",
      "metadata": {
        "colab": {
          "base_uri": "https://localhost:8080/"
        },
        "id": "n1kpDE-XGBEu",
        "outputId": "a921f6d5-de56-4e37-827b-cfc978f66c7f"
      },
      "source": [
        "test['avgTimeSpent'].min()"
      ],
      "execution_count": 97,
      "outputs": [
        {
          "output_type": "execute_result",
          "data": {
            "text/plain": [
              "1.0"
            ]
          },
          "metadata": {
            "tags": []
          },
          "execution_count": 97
        }
      ]
    },
    {
      "cell_type": "code",
      "metadata": {
        "colab": {
          "base_uri": "https://localhost:8080/"
        },
        "id": "t4Dg3zvFGg2L",
        "outputId": "2b545d75-959e-4b0f-b48b-9f83a280fe70"
      },
      "source": [
        "df2 = df_avgtime[(df_avgtime['avgTimeSpent'] <= .5e+07 ) & (df_avgtime['avgTimeSpent'] >= test['avgTimeSpent'].min())]\r\n",
        "#df2 = df2[(df2['avgt2'] < test['avgt2'].max()) & (df2['avgt2'] > test['avgt2'].min())]\r\n",
        "# df2 = df_avgtime[(df_avgtime['avgTimeSpent'] < test['avgTimeSpent'].max()) & (df_avgtime['avgTimeSpent'] > test['avgTimeSpent'].min())]\r\n",
        "# df2 = df_avgtime[(df_avgtime['avgTimeSpent'] < test['avgTimeSpent'].max()) & (df_avgtime['avgTimeSpent'] > test['avgTimeSpent'].min())]\r\n",
        "df2.shape"
      ],
      "execution_count": 98,
      "outputs": [
        {
          "output_type": "execute_result",
          "data": {
            "text/plain": [
              "(488875, 25)"
            ]
          },
          "metadata": {
            "tags": []
          },
          "execution_count": 98
        }
      ]
    },
    {
      "cell_type": "code",
      "metadata": {
        "colab": {
          "base_uri": "https://localhost:8080/"
        },
        "id": "iXoSr13vKxzu",
        "outputId": "2a77c8cb-df51-4e96-bb3e-8be67ee9e713"
      },
      "source": [
        "df3 = df2[(df2['following_rate'] <= 150) & (df2['following_rate'] >= test['following_rate'].min())]\r\n",
        "df3.shape"
      ],
      "execution_count": 99,
      "outputs": [
        {
          "output_type": "execute_result",
          "data": {
            "text/plain": [
              "(488857, 25)"
            ]
          },
          "metadata": {
            "tags": []
          },
          "execution_count": 99
        }
      ]
    },
    {
      "cell_type": "code",
      "metadata": {
        "colab": {
          "base_uri": "https://localhost:8080/"
        },
        "id": "kq04U--DM4lD",
        "outputId": "fafb6812-36c7-4002-e662-cfb34625208d"
      },
      "source": [
        "df4 = df3[(df3['emoji_count_per_action'] <= test['emoji_count_per_action'].max()) & (df3['emoji_count_per_action'] >= test['emoji_count_per_action'].min())]\r\n",
        "df4.shape"
      ],
      "execution_count": 100,
      "outputs": [
        {
          "output_type": "execute_result",
          "data": {
            "text/plain": [
              "(488847, 25)"
            ]
          },
          "metadata": {
            "tags": []
          },
          "execution_count": 100
        }
      ]
    },
    {
      "cell_type": "code",
      "metadata": {
        "colab": {
          "base_uri": "https://localhost:8080/"
        },
        "id": "F9eA6afvSWof",
        "outputId": "59abfdd4-4ef3-487c-c262-ef8209e74fd1"
      },
      "source": [
        "df5 = df4[(df4['max_repetitive_punc'] <= 180)]\r\n",
        "df5.shape"
      ],
      "execution_count": 101,
      "outputs": [
        {
          "output_type": "execute_result",
          "data": {
            "text/plain": [
              "(488843, 25)"
            ]
          },
          "metadata": {
            "tags": []
          },
          "execution_count": 101
        }
      ]
    },
    {
      "cell_type": "code",
      "metadata": {
        "colab": {
          "base_uri": "https://localhost:8080/"
        },
        "id": "yCOdbhpjU7DE",
        "outputId": "bfd0bae1-683d-4dcc-8e02-f1d13bd9db7b"
      },
      "source": [
        "df6 = df5[(df5['avgt2'] <= 28000)]\r\n",
        "df6.shape"
      ],
      "execution_count": 102,
      "outputs": [
        {
          "output_type": "execute_result",
          "data": {
            "text/plain": [
              "(488812, 25)"
            ]
          },
          "metadata": {
            "tags": []
          },
          "execution_count": 102
        }
      ]
    },
    {
      "cell_type": "code",
      "metadata": {
        "colab": {
          "base_uri": "https://localhost:8080/"
        },
        "id": "h1HMtUg8hAky",
        "outputId": "f9f7e58f-e2d3-45c1-835c-99e9a81958ee"
      },
      "source": [
        "df7 = df6[(df6['avgDuration'] <= 1700)]\r\n",
        "df7.shape"
      ],
      "execution_count": 103,
      "outputs": [
        {
          "output_type": "execute_result",
          "data": {
            "text/plain": [
              "(488799, 25)"
            ]
          },
          "metadata": {
            "tags": []
          },
          "execution_count": 103
        }
      ]
    },
    {
      "cell_type": "code",
      "metadata": {
        "colab": {
          "base_uri": "https://localhost:8080/"
        },
        "id": "cS_aVTE5iqAk",
        "outputId": "af8d7f5f-68d5-4a18-e3f5-f275842ee4bf"
      },
      "source": [
        "df8 = df7[(df7['avgComments'] <= 500)]\r\n",
        "df8.shape"
      ],
      "execution_count": 104,
      "outputs": [
        {
          "output_type": "execute_result",
          "data": {
            "text/plain": [
              "(488787, 25)"
            ]
          },
          "metadata": {
            "tags": []
          },
          "execution_count": 104
        }
      ]
    },
    {
      "cell_type": "code",
      "metadata": {
        "colab": {
          "base_uri": "https://localhost:8080/"
        },
        "id": "DvautjKEjvLm",
        "outputId": "7de03485-53de-422e-ac70-4105b5a42419"
      },
      "source": [
        "df9 = df8[(df8['creations'] <= 25)]\r\n",
        "df9.shape"
      ],
      "execution_count": 105,
      "outputs": [
        {
          "output_type": "execute_result",
          "data": {
            "text/plain": [
              "(488784, 25)"
            ]
          },
          "metadata": {
            "tags": []
          },
          "execution_count": 105
        }
      ]
    },
    {
      "cell_type": "code",
      "metadata": {
        "colab": {
          "base_uri": "https://localhost:8080/"
        },
        "id": "Mlbdy33mkwsn",
        "outputId": "93506f1f-00b7-486d-b376-51856b5d3e77"
      },
      "source": [
        "df10 = df9[(df9['content_views'] <= 35)]\r\n",
        "df10.shape"
      ],
      "execution_count": 106,
      "outputs": [
        {
          "output_type": "execute_result",
          "data": {
            "text/plain": [
              "(488780, 25)"
            ]
          },
          "metadata": {
            "tags": []
          },
          "execution_count": 106
        }
      ]
    },
    {
      "cell_type": "code",
      "metadata": {
        "colab": {
          "base_uri": "https://localhost:8080/"
        },
        "id": "pWv4qIgGwpTu",
        "outputId": "77aaccb2-c544-4a68-bb90-ff14b693e82b"
      },
      "source": [
        "df11 = df10[(df10['weekends_trails_watched_per_day'] <= 10)]\r\n",
        "df11.shape"
      ],
      "execution_count": 107,
      "outputs": [
        {
          "output_type": "execute_result",
          "data": {
            "text/plain": [
              "(488778, 25)"
            ]
          },
          "metadata": {
            "tags": []
          },
          "execution_count": 107
        }
      ]
    },
    {
      "cell_type": "code",
      "metadata": {
        "colab": {
          "base_uri": "https://localhost:8080/"
        },
        "id": "VyqXibBRxIpj",
        "outputId": "9494e90d-f39d-4dc0-c638-730d244ef5db"
      },
      "source": [
        "df12 = df11[(df11['weekdays_trails_watched_per_day'] <= 10)]\r\n",
        "df12.shape"
      ],
      "execution_count": 108,
      "outputs": [
        {
          "output_type": "execute_result",
          "data": {
            "text/plain": [
              "(488777, 25)"
            ]
          },
          "metadata": {
            "tags": []
          },
          "execution_count": 108
        }
      ]
    },
    {
      "cell_type": "code",
      "metadata": {
        "colab": {
          "base_uri": "https://localhost:8080/"
        },
        "id": "ZfhHq2XqyZli",
        "outputId": "b2b647ad-cb33-4f83-ca2d-840a08aa0878"
      },
      "source": [
        "df13 = df12[(df12['slot4_trails_watched_per_day'] <= 25)]\r\n",
        "df13.shape"
      ],
      "execution_count": 109,
      "outputs": [
        {
          "output_type": "execute_result",
          "data": {
            "text/plain": [
              "(488773, 25)"
            ]
          },
          "metadata": {
            "tags": []
          },
          "execution_count": 109
        }
      ]
    },
    {
      "cell_type": "code",
      "metadata": {
        "colab": {
          "base_uri": "https://localhost:8080/"
        },
        "id": "ua_CDqiyy-Rf",
        "outputId": "6198b168-60b1-4339-fa9e-611e6a1a69e1"
      },
      "source": [
        "df14 = df13[(df13['slot3_trails_watched_per_day'] <= 30)]\r\n",
        "df14.shape"
      ],
      "execution_count": 110,
      "outputs": [
        {
          "output_type": "execute_result",
          "data": {
            "text/plain": [
              "(488772, 25)"
            ]
          },
          "metadata": {
            "tags": []
          },
          "execution_count": 110
        }
      ]
    },
    {
      "cell_type": "code",
      "metadata": {
        "colab": {
          "base_uri": "https://localhost:8080/"
        },
        "id": "-s0CTBVSy-oy",
        "outputId": "1818f070-056a-46b5-93c8-672dae98a568"
      },
      "source": [
        "df15 = df14[(df14['slot2_trails_watched_per_day'] <= 20)]\r\n",
        "df15.shape"
      ],
      "execution_count": 111,
      "outputs": [
        {
          "output_type": "execute_result",
          "data": {
            "text/plain": [
              "(488771, 25)"
            ]
          },
          "metadata": {
            "tags": []
          },
          "execution_count": 111
        }
      ]
    },
    {
      "cell_type": "code",
      "metadata": {
        "colab": {
          "base_uri": "https://localhost:8080/"
        },
        "id": "umEpW91gzAFN",
        "outputId": "368c5f77-41e4-438a-f6ed-894032d62b16"
      },
      "source": [
        "df16 = df15[(df15['slot1_trails_watched_per_day'] <= 15)]\r\n",
        "df16.shape"
      ],
      "execution_count": 112,
      "outputs": [
        {
          "output_type": "execute_result",
          "data": {
            "text/plain": [
              "(488767, 25)"
            ]
          },
          "metadata": {
            "tags": []
          },
          "execution_count": 112
        }
      ]
    },
    {
      "cell_type": "code",
      "metadata": {
        "colab": {
          "base_uri": "https://localhost:8080/",
          "height": 307
        },
        "id": "3T2-SkNZJbf1",
        "outputId": "10c060d6-d33e-4abb-beb2-82a7a0e853aa"
      },
      "source": [
        "df16.describe()"
      ],
      "execution_count": 113,
      "outputs": [
        {
          "output_type": "execute_result",
          "data": {
            "text/html": [
              "<div>\n",
              "<style scoped>\n",
              "    .dataframe tbody tr th:only-of-type {\n",
              "        vertical-align: middle;\n",
              "    }\n",
              "\n",
              "    .dataframe tbody tr th {\n",
              "        vertical-align: top;\n",
              "    }\n",
              "\n",
              "    .dataframe thead th {\n",
              "        text-align: right;\n",
              "    }\n",
              "</style>\n",
              "<table border=\"1\" class=\"dataframe\">\n",
              "  <thead>\n",
              "    <tr style=\"text-align: right;\">\n",
              "      <th></th>\n",
              "      <th>tier</th>\n",
              "      <th>gender</th>\n",
              "      <th>following_rate</th>\n",
              "      <th>followers_avg_age</th>\n",
              "      <th>following_avg_age</th>\n",
              "      <th>max_repetitive_punc</th>\n",
              "      <th>num_of_hashtags_per_action</th>\n",
              "      <th>emoji_count_per_action</th>\n",
              "      <th>punctuations_per_action</th>\n",
              "      <th>number_of_words_per_action</th>\n",
              "      <th>avgCompletion</th>\n",
              "      <th>avgTimeSpent</th>\n",
              "      <th>avgDuration</th>\n",
              "      <th>avgComments</th>\n",
              "      <th>creations</th>\n",
              "      <th>content_views</th>\n",
              "      <th>num_of_comments</th>\n",
              "      <th>weekends_trails_watched_per_day</th>\n",
              "      <th>weekdays_trails_watched_per_day</th>\n",
              "      <th>slot1_trails_watched_per_day</th>\n",
              "      <th>slot2_trails_watched_per_day</th>\n",
              "      <th>slot3_trails_watched_per_day</th>\n",
              "      <th>slot4_trails_watched_per_day</th>\n",
              "      <th>avgt2</th>\n",
              "      <th>age_group</th>\n",
              "    </tr>\n",
              "  </thead>\n",
              "  <tbody>\n",
              "    <tr>\n",
              "      <th>count</th>\n",
              "      <td>488767.000000</td>\n",
              "      <td>488767.000000</td>\n",
              "      <td>488767.000000</td>\n",
              "      <td>488767.000000</td>\n",
              "      <td>488767.000000</td>\n",
              "      <td>488767.000000</td>\n",
              "      <td>488767.000000</td>\n",
              "      <td>488767.000000</td>\n",
              "      <td>488767.000000</td>\n",
              "      <td>488767.000000</td>\n",
              "      <td>488767.000000</td>\n",
              "      <td>488767.000000</td>\n",
              "      <td>488767.000000</td>\n",
              "      <td>488767.000000</td>\n",
              "      <td>488767.000000</td>\n",
              "      <td>488767.000000</td>\n",
              "      <td>488767.000000</td>\n",
              "      <td>488767.000000</td>\n",
              "      <td>488767.000000</td>\n",
              "      <td>488767.000000</td>\n",
              "      <td>488767.000000</td>\n",
              "      <td>488767.000000</td>\n",
              "      <td>488767.000000</td>\n",
              "      <td>488767.000000</td>\n",
              "      <td>488767.000000</td>\n",
              "    </tr>\n",
              "    <tr>\n",
              "      <th>mean</th>\n",
              "      <td>1.975436</td>\n",
              "      <td>1.213028</td>\n",
              "      <td>0.070451</td>\n",
              "      <td>0.347382</td>\n",
              "      <td>0.402905</td>\n",
              "      <td>0.735633</td>\n",
              "      <td>0.000277</td>\n",
              "      <td>0.000939</td>\n",
              "      <td>0.012686</td>\n",
              "      <td>0.178908</td>\n",
              "      <td>0.341586</td>\n",
              "      <td>18.394524</td>\n",
              "      <td>83.028860</td>\n",
              "      <td>0.290625</td>\n",
              "      <td>0.016665</td>\n",
              "      <td>0.389737</td>\n",
              "      <td>0.001897</td>\n",
              "      <td>0.074031</td>\n",
              "      <td>0.066602</td>\n",
              "      <td>0.032578</td>\n",
              "      <td>0.141148</td>\n",
              "      <td>0.149780</td>\n",
              "      <td>0.157570</td>\n",
              "      <td>162.797895</td>\n",
              "      <td>1.741472</td>\n",
              "    </tr>\n",
              "    <tr>\n",
              "      <th>std</th>\n",
              "      <td>0.430642</td>\n",
              "      <td>0.409448</td>\n",
              "      <td>1.152422</td>\n",
              "      <td>0.816206</td>\n",
              "      <td>0.925175</td>\n",
              "      <td>2.776836</td>\n",
              "      <td>0.012223</td>\n",
              "      <td>0.018067</td>\n",
              "      <td>0.153388</td>\n",
              "      <td>0.646762</td>\n",
              "      <td>0.195436</td>\n",
              "      <td>199.958665</td>\n",
              "      <td>75.151326</td>\n",
              "      <td>3.415491</td>\n",
              "      <td>0.122681</td>\n",
              "      <td>0.883037</td>\n",
              "      <td>0.021413</td>\n",
              "      <td>0.205012</td>\n",
              "      <td>0.167484</td>\n",
              "      <td>0.182789</td>\n",
              "      <td>0.390924</td>\n",
              "      <td>0.437028</td>\n",
              "      <td>0.480608</td>\n",
              "      <td>950.946161</td>\n",
              "      <td>1.088463</td>\n",
              "    </tr>\n",
              "    <tr>\n",
              "      <th>min</th>\n",
              "      <td>1.000000</td>\n",
              "      <td>1.000000</td>\n",
              "      <td>0.000000</td>\n",
              "      <td>0.000000</td>\n",
              "      <td>0.000000</td>\n",
              "      <td>0.000000</td>\n",
              "      <td>0.000000</td>\n",
              "      <td>0.000000</td>\n",
              "      <td>0.000000</td>\n",
              "      <td>0.000000</td>\n",
              "      <td>0.000653</td>\n",
              "      <td>1.000000</td>\n",
              "      <td>0.233000</td>\n",
              "      <td>0.000000</td>\n",
              "      <td>0.000000</td>\n",
              "      <td>0.000887</td>\n",
              "      <td>0.000000</td>\n",
              "      <td>0.000000</td>\n",
              "      <td>0.000000</td>\n",
              "      <td>0.000000</td>\n",
              "      <td>0.000000</td>\n",
              "      <td>0.000000</td>\n",
              "      <td>0.000000</td>\n",
              "      <td>0.000000</td>\n",
              "      <td>1.000000</td>\n",
              "    </tr>\n",
              "    <tr>\n",
              "      <th>25%</th>\n",
              "      <td>2.000000</td>\n",
              "      <td>1.000000</td>\n",
              "      <td>0.000000</td>\n",
              "      <td>0.000000</td>\n",
              "      <td>0.000000</td>\n",
              "      <td>0.000000</td>\n",
              "      <td>0.000000</td>\n",
              "      <td>0.000000</td>\n",
              "      <td>0.000000</td>\n",
              "      <td>0.000000</td>\n",
              "      <td>0.199685</td>\n",
              "      <td>5.654228</td>\n",
              "      <td>30.718020</td>\n",
              "      <td>0.000000</td>\n",
              "      <td>0.000000</td>\n",
              "      <td>0.040698</td>\n",
              "      <td>0.000000</td>\n",
              "      <td>0.000000</td>\n",
              "      <td>0.002268</td>\n",
              "      <td>0.000000</td>\n",
              "      <td>0.000000</td>\n",
              "      <td>0.000000</td>\n",
              "      <td>0.000000</td>\n",
              "      <td>0.000000</td>\n",
              "      <td>1.000000</td>\n",
              "    </tr>\n",
              "    <tr>\n",
              "      <th>50%</th>\n",
              "      <td>2.000000</td>\n",
              "      <td>1.000000</td>\n",
              "      <td>0.000000</td>\n",
              "      <td>0.000000</td>\n",
              "      <td>0.000000</td>\n",
              "      <td>0.000000</td>\n",
              "      <td>0.000000</td>\n",
              "      <td>0.000000</td>\n",
              "      <td>0.000000</td>\n",
              "      <td>0.000000</td>\n",
              "      <td>0.329750</td>\n",
              "      <td>8.500000</td>\n",
              "      <td>62.491507</td>\n",
              "      <td>0.000000</td>\n",
              "      <td>0.000000</td>\n",
              "      <td>0.123967</td>\n",
              "      <td>0.000000</td>\n",
              "      <td>0.003968</td>\n",
              "      <td>0.015873</td>\n",
              "      <td>0.000000</td>\n",
              "      <td>0.011834</td>\n",
              "      <td>0.014545</td>\n",
              "      <td>0.015873</td>\n",
              "      <td>0.000000</td>\n",
              "      <td>1.000000</td>\n",
              "    </tr>\n",
              "    <tr>\n",
              "      <th>75%</th>\n",
              "      <td>2.000000</td>\n",
              "      <td>1.000000</td>\n",
              "      <td>0.008621</td>\n",
              "      <td>0.000000</td>\n",
              "      <td>0.000000</td>\n",
              "      <td>0.000000</td>\n",
              "      <td>0.000000</td>\n",
              "      <td>0.000000</td>\n",
              "      <td>0.000000</td>\n",
              "      <td>0.150000</td>\n",
              "      <td>0.460494</td>\n",
              "      <td>13.083333</td>\n",
              "      <td>112.229401</td>\n",
              "      <td>0.000000</td>\n",
              "      <td>0.009091</td>\n",
              "      <td>0.364407</td>\n",
              "      <td>0.000000</td>\n",
              "      <td>0.060000</td>\n",
              "      <td>0.059016</td>\n",
              "      <td>0.000000</td>\n",
              "      <td>0.117188</td>\n",
              "      <td>0.118644</td>\n",
              "      <td>0.121951</td>\n",
              "      <td>178.642857</td>\n",
              "      <td>2.000000</td>\n",
              "    </tr>\n",
              "    <tr>\n",
              "      <th>max</th>\n",
              "      <td>3.000000</td>\n",
              "      <td>2.000000</td>\n",
              "      <td>143.661157</td>\n",
              "      <td>4.000000</td>\n",
              "      <td>4.000000</td>\n",
              "      <td>152.000000</td>\n",
              "      <td>2.333333</td>\n",
              "      <td>1.666667</td>\n",
              "      <td>24.000000</td>\n",
              "      <td>262.666667</td>\n",
              "      <td>1.000000</td>\n",
              "      <td>57123.340000</td>\n",
              "      <td>1682.547500</td>\n",
              "      <td>496.000000</td>\n",
              "      <td>20.722222</td>\n",
              "      <td>32.398058</td>\n",
              "      <td>3.905512</td>\n",
              "      <td>7.782258</td>\n",
              "      <td>8.588889</td>\n",
              "      <td>13.464286</td>\n",
              "      <td>19.250000</td>\n",
              "      <td>25.884615</td>\n",
              "      <td>23.060870</td>\n",
              "      <td>27857.000000</td>\n",
              "      <td>4.000000</td>\n",
              "    </tr>\n",
              "  </tbody>\n",
              "</table>\n",
              "</div>"
            ],
            "text/plain": [
              "                tier         gender  ...          avgt2      age_group\n",
              "count  488767.000000  488767.000000  ...  488767.000000  488767.000000\n",
              "mean        1.975436       1.213028  ...     162.797895       1.741472\n",
              "std         0.430642       0.409448  ...     950.946161       1.088463\n",
              "min         1.000000       1.000000  ...       0.000000       1.000000\n",
              "25%         2.000000       1.000000  ...       0.000000       1.000000\n",
              "50%         2.000000       1.000000  ...       0.000000       1.000000\n",
              "75%         2.000000       1.000000  ...     178.642857       2.000000\n",
              "max         3.000000       2.000000  ...   27857.000000       4.000000\n",
              "\n",
              "[8 rows x 25 columns]"
            ]
          },
          "metadata": {
            "tags": []
          },
          "execution_count": 113
        }
      ]
    },
    {
      "cell_type": "code",
      "metadata": {
        "colab": {
          "base_uri": "https://localhost:8080/",
          "height": 307
        },
        "id": "wB_6P9ENhvl3",
        "outputId": "5be62a67-8736-4fdb-dbce-12016c034189"
      },
      "source": [
        "test.describe()"
      ],
      "execution_count": 114,
      "outputs": [
        {
          "output_type": "execute_result",
          "data": {
            "text/html": [
              "<div>\n",
              "<style scoped>\n",
              "    .dataframe tbody tr th:only-of-type {\n",
              "        vertical-align: middle;\n",
              "    }\n",
              "\n",
              "    .dataframe tbody tr th {\n",
              "        vertical-align: top;\n",
              "    }\n",
              "\n",
              "    .dataframe thead th {\n",
              "        text-align: right;\n",
              "    }\n",
              "</style>\n",
              "<table border=\"1\" class=\"dataframe\">\n",
              "  <thead>\n",
              "    <tr style=\"text-align: right;\">\n",
              "      <th></th>\n",
              "      <th>tier</th>\n",
              "      <th>gender</th>\n",
              "      <th>following_rate</th>\n",
              "      <th>followers_avg_age</th>\n",
              "      <th>following_avg_age</th>\n",
              "      <th>max_repetitive_punc</th>\n",
              "      <th>num_of_hashtags_per_action</th>\n",
              "      <th>emoji_count_per_action</th>\n",
              "      <th>punctuations_per_action</th>\n",
              "      <th>number_of_words_per_action</th>\n",
              "      <th>avgCompletion</th>\n",
              "      <th>avgTimeSpent</th>\n",
              "      <th>avgDuration</th>\n",
              "      <th>avgComments</th>\n",
              "      <th>creations</th>\n",
              "      <th>content_views</th>\n",
              "      <th>num_of_comments</th>\n",
              "      <th>weekends_trails_watched_per_day</th>\n",
              "      <th>weekdays_trails_watched_per_day</th>\n",
              "      <th>slot1_trails_watched_per_day</th>\n",
              "      <th>slot2_trails_watched_per_day</th>\n",
              "      <th>slot3_trails_watched_per_day</th>\n",
              "      <th>slot4_trails_watched_per_day</th>\n",
              "      <th>avgt2</th>\n",
              "    </tr>\n",
              "  </thead>\n",
              "  <tbody>\n",
              "    <tr>\n",
              "      <th>count</th>\n",
              "      <td>54320.000000</td>\n",
              "      <td>54320.000000</td>\n",
              "      <td>54320.000000</td>\n",
              "      <td>54320.000000</td>\n",
              "      <td>54320.000000</td>\n",
              "      <td>54320.000000</td>\n",
              "      <td>54320.000000</td>\n",
              "      <td>54320.000000</td>\n",
              "      <td>54320.000000</td>\n",
              "      <td>54320.000000</td>\n",
              "      <td>54320.000000</td>\n",
              "      <td>54320.000000</td>\n",
              "      <td>54320.000000</td>\n",
              "      <td>54320.000000</td>\n",
              "      <td>54320.000000</td>\n",
              "      <td>54320.000000</td>\n",
              "      <td>54320.000000</td>\n",
              "      <td>54320.000000</td>\n",
              "      <td>54320.000000</td>\n",
              "      <td>54320.000000</td>\n",
              "      <td>54320.000000</td>\n",
              "      <td>54320.000000</td>\n",
              "      <td>54320.000000</td>\n",
              "      <td>54320.000000</td>\n",
              "    </tr>\n",
              "    <tr>\n",
              "      <th>mean</th>\n",
              "      <td>1.976105</td>\n",
              "      <td>1.211856</td>\n",
              "      <td>0.081204</td>\n",
              "      <td>0.344033</td>\n",
              "      <td>0.397432</td>\n",
              "      <td>0.734794</td>\n",
              "      <td>0.000357</td>\n",
              "      <td>0.000909</td>\n",
              "      <td>0.012117</td>\n",
              "      <td>0.178509</td>\n",
              "      <td>0.342335</td>\n",
              "      <td>18.350892</td>\n",
              "      <td>82.572262</td>\n",
              "      <td>0.322202</td>\n",
              "      <td>0.017718</td>\n",
              "      <td>0.393404</td>\n",
              "      <td>0.002133</td>\n",
              "      <td>0.075402</td>\n",
              "      <td>0.067343</td>\n",
              "      <td>0.032848</td>\n",
              "      <td>0.141784</td>\n",
              "      <td>0.152749</td>\n",
              "      <td>0.160141</td>\n",
              "      <td>158.286032</td>\n",
              "    </tr>\n",
              "    <tr>\n",
              "      <th>std</th>\n",
              "      <td>0.431142</td>\n",
              "      <td>0.408627</td>\n",
              "      <td>3.103205</td>\n",
              "      <td>0.813081</td>\n",
              "      <td>0.917988</td>\n",
              "      <td>2.822803</td>\n",
              "      <td>0.015529</td>\n",
              "      <td>0.017456</td>\n",
              "      <td>0.130576</td>\n",
              "      <td>0.600530</td>\n",
              "      <td>0.196584</td>\n",
              "      <td>245.222420</td>\n",
              "      <td>73.912128</td>\n",
              "      <td>4.606317</td>\n",
              "      <td>0.156423</td>\n",
              "      <td>0.929538</td>\n",
              "      <td>0.031136</td>\n",
              "      <td>0.212199</td>\n",
              "      <td>0.179688</td>\n",
              "      <td>0.175984</td>\n",
              "      <td>0.396400</td>\n",
              "      <td>0.481607</td>\n",
              "      <td>0.502513</td>\n",
              "      <td>920.210984</td>\n",
              "    </tr>\n",
              "    <tr>\n",
              "      <th>min</th>\n",
              "      <td>1.000000</td>\n",
              "      <td>1.000000</td>\n",
              "      <td>0.000000</td>\n",
              "      <td>0.000000</td>\n",
              "      <td>0.000000</td>\n",
              "      <td>0.000000</td>\n",
              "      <td>0.000000</td>\n",
              "      <td>0.000000</td>\n",
              "      <td>0.000000</td>\n",
              "      <td>0.000000</td>\n",
              "      <td>0.000628</td>\n",
              "      <td>1.000000</td>\n",
              "      <td>0.767000</td>\n",
              "      <td>0.000000</td>\n",
              "      <td>0.000000</td>\n",
              "      <td>0.000873</td>\n",
              "      <td>0.000000</td>\n",
              "      <td>0.000000</td>\n",
              "      <td>0.000000</td>\n",
              "      <td>0.000000</td>\n",
              "      <td>0.000000</td>\n",
              "      <td>0.000000</td>\n",
              "      <td>0.000000</td>\n",
              "      <td>0.000000</td>\n",
              "    </tr>\n",
              "    <tr>\n",
              "      <th>25%</th>\n",
              "      <td>2.000000</td>\n",
              "      <td>1.000000</td>\n",
              "      <td>0.000000</td>\n",
              "      <td>0.000000</td>\n",
              "      <td>0.000000</td>\n",
              "      <td>0.000000</td>\n",
              "      <td>0.000000</td>\n",
              "      <td>0.000000</td>\n",
              "      <td>0.000000</td>\n",
              "      <td>0.000000</td>\n",
              "      <td>0.199768</td>\n",
              "      <td>5.651071</td>\n",
              "      <td>30.447950</td>\n",
              "      <td>0.000000</td>\n",
              "      <td>0.000000</td>\n",
              "      <td>0.040816</td>\n",
              "      <td>0.000000</td>\n",
              "      <td>0.000000</td>\n",
              "      <td>0.002243</td>\n",
              "      <td>0.000000</td>\n",
              "      <td>0.000000</td>\n",
              "      <td>0.000000</td>\n",
              "      <td>0.000000</td>\n",
              "      <td>0.000000</td>\n",
              "    </tr>\n",
              "    <tr>\n",
              "      <th>50%</th>\n",
              "      <td>2.000000</td>\n",
              "      <td>1.000000</td>\n",
              "      <td>0.000000</td>\n",
              "      <td>0.000000</td>\n",
              "      <td>0.000000</td>\n",
              "      <td>0.000000</td>\n",
              "      <td>0.000000</td>\n",
              "      <td>0.000000</td>\n",
              "      <td>0.000000</td>\n",
              "      <td>0.000000</td>\n",
              "      <td>0.329771</td>\n",
              "      <td>8.500000</td>\n",
              "      <td>62.443638</td>\n",
              "      <td>0.000000</td>\n",
              "      <td>0.000000</td>\n",
              "      <td>0.125000</td>\n",
              "      <td>0.000000</td>\n",
              "      <td>0.003968</td>\n",
              "      <td>0.015789</td>\n",
              "      <td>0.000000</td>\n",
              "      <td>0.011628</td>\n",
              "      <td>0.014493</td>\n",
              "      <td>0.015873</td>\n",
              "      <td>0.000000</td>\n",
              "    </tr>\n",
              "    <tr>\n",
              "      <th>75%</th>\n",
              "      <td>2.000000</td>\n",
              "      <td>1.000000</td>\n",
              "      <td>0.008621</td>\n",
              "      <td>0.000000</td>\n",
              "      <td>0.000000</td>\n",
              "      <td>0.000000</td>\n",
              "      <td>0.000000</td>\n",
              "      <td>0.000000</td>\n",
              "      <td>0.000000</td>\n",
              "      <td>0.147100</td>\n",
              "      <td>0.460882</td>\n",
              "      <td>13.079052</td>\n",
              "      <td>112.135575</td>\n",
              "      <td>0.000000</td>\n",
              "      <td>0.009009</td>\n",
              "      <td>0.364427</td>\n",
              "      <td>0.000000</td>\n",
              "      <td>0.060000</td>\n",
              "      <td>0.058333</td>\n",
              "      <td>0.000000</td>\n",
              "      <td>0.117647</td>\n",
              "      <td>0.117647</td>\n",
              "      <td>0.125000</td>\n",
              "      <td>178.714286</td>\n",
              "    </tr>\n",
              "    <tr>\n",
              "      <th>max</th>\n",
              "      <td>3.000000</td>\n",
              "      <td>2.000000</td>\n",
              "      <td>685.277778</td>\n",
              "      <td>4.000000</td>\n",
              "      <td>4.000000</td>\n",
              "      <td>130.000000</td>\n",
              "      <td>2.333333</td>\n",
              "      <td>1.692308</td>\n",
              "      <td>12.500000</td>\n",
              "      <td>65.800000</td>\n",
              "      <td>1.000000</td>\n",
              "      <td>48286.500000</td>\n",
              "      <td>1600.786667</td>\n",
              "      <td>549.000000</td>\n",
              "      <td>16.915254</td>\n",
              "      <td>34.030303</td>\n",
              "      <td>4.575000</td>\n",
              "      <td>8.897959</td>\n",
              "      <td>8.672727</td>\n",
              "      <td>12.440000</td>\n",
              "      <td>17.060606</td>\n",
              "      <td>24.122449</td>\n",
              "      <td>22.096774</td>\n",
              "      <td>28474.333330</td>\n",
              "    </tr>\n",
              "  </tbody>\n",
              "</table>\n",
              "</div>"
            ],
            "text/plain": [
              "               tier        gender  ...  slot4_trails_watched_per_day         avgt2\n",
              "count  54320.000000  54320.000000  ...                  54320.000000  54320.000000\n",
              "mean       1.976105      1.211856  ...                      0.160141    158.286032\n",
              "std        0.431142      0.408627  ...                      0.502513    920.210984\n",
              "min        1.000000      1.000000  ...                      0.000000      0.000000\n",
              "25%        2.000000      1.000000  ...                      0.000000      0.000000\n",
              "50%        2.000000      1.000000  ...                      0.015873      0.000000\n",
              "75%        2.000000      1.000000  ...                      0.125000    178.714286\n",
              "max        3.000000      2.000000  ...                     22.096774  28474.333330\n",
              "\n",
              "[8 rows x 24 columns]"
            ]
          },
          "metadata": {
            "tags": []
          },
          "execution_count": 114
        }
      ]
    },
    {
      "cell_type": "code",
      "metadata": {
        "colab": {
          "base_uri": "https://localhost:8080/",
          "height": 307
        },
        "id": "oAgmCOvjJoCs",
        "outputId": "00c78040-8bd4-44f4-8a5e-636f8dfba012"
      },
      "source": [
        "train.describe()"
      ],
      "execution_count": 115,
      "outputs": [
        {
          "output_type": "execute_result",
          "data": {
            "text/html": [
              "<div>\n",
              "<style scoped>\n",
              "    .dataframe tbody tr th:only-of-type {\n",
              "        vertical-align: middle;\n",
              "    }\n",
              "\n",
              "    .dataframe tbody tr th {\n",
              "        vertical-align: top;\n",
              "    }\n",
              "\n",
              "    .dataframe thead th {\n",
              "        text-align: right;\n",
              "    }\n",
              "</style>\n",
              "<table border=\"1\" class=\"dataframe\">\n",
              "  <thead>\n",
              "    <tr style=\"text-align: right;\">\n",
              "      <th></th>\n",
              "      <th>tier</th>\n",
              "      <th>gender</th>\n",
              "      <th>following_rate</th>\n",
              "      <th>followers_avg_age</th>\n",
              "      <th>following_avg_age</th>\n",
              "      <th>max_repetitive_punc</th>\n",
              "      <th>num_of_hashtags_per_action</th>\n",
              "      <th>emoji_count_per_action</th>\n",
              "      <th>punctuations_per_action</th>\n",
              "      <th>number_of_words_per_action</th>\n",
              "      <th>avgCompletion</th>\n",
              "      <th>avgTimeSpent</th>\n",
              "      <th>avgDuration</th>\n",
              "      <th>avgComments</th>\n",
              "      <th>creations</th>\n",
              "      <th>content_views</th>\n",
              "      <th>num_of_comments</th>\n",
              "      <th>weekends_trails_watched_per_day</th>\n",
              "      <th>weekdays_trails_watched_per_day</th>\n",
              "      <th>slot1_trails_watched_per_day</th>\n",
              "      <th>slot2_trails_watched_per_day</th>\n",
              "      <th>slot3_trails_watched_per_day</th>\n",
              "      <th>slot4_trails_watched_per_day</th>\n",
              "      <th>avgt2</th>\n",
              "      <th>age_group</th>\n",
              "    </tr>\n",
              "  </thead>\n",
              "  <tbody>\n",
              "    <tr>\n",
              "      <th>count</th>\n",
              "      <td>488877.000000</td>\n",
              "      <td>488877.000000</td>\n",
              "      <td>488877.000000</td>\n",
              "      <td>488877.000000</td>\n",
              "      <td>488877.000000</td>\n",
              "      <td>488877.000000</td>\n",
              "      <td>488877.000000</td>\n",
              "      <td>488877.000000</td>\n",
              "      <td>488877.000000</td>\n",
              "      <td>488877.000000</td>\n",
              "      <td>488877.000000</td>\n",
              "      <td>4.888770e+05</td>\n",
              "      <td>488877.000000</td>\n",
              "      <td>488877.000000</td>\n",
              "      <td>488877.000000</td>\n",
              "      <td>488877.000000</td>\n",
              "      <td>488877.000000</td>\n",
              "      <td>488877.000000</td>\n",
              "      <td>488877.000000</td>\n",
              "      <td>488877.000000</td>\n",
              "      <td>488877.000000</td>\n",
              "      <td>488877.000000</td>\n",
              "      <td>488877.000000</td>\n",
              "      <td>488877.000000</td>\n",
              "      <td>488877.000000</td>\n",
              "    </tr>\n",
              "    <tr>\n",
              "      <th>mean</th>\n",
              "      <td>1.975382</td>\n",
              "      <td>1.213037</td>\n",
              "      <td>0.082233</td>\n",
              "      <td>0.347520</td>\n",
              "      <td>0.403049</td>\n",
              "      <td>0.739748</td>\n",
              "      <td>0.000277</td>\n",
              "      <td>0.000981</td>\n",
              "      <td>0.012805</td>\n",
              "      <td>0.179148</td>\n",
              "      <td>0.341582</td>\n",
              "      <td>1.087395e+02</td>\n",
              "      <td>83.104654</td>\n",
              "      <td>0.320923</td>\n",
              "      <td>0.017065</td>\n",
              "      <td>0.391013</td>\n",
              "      <td>0.002009</td>\n",
              "      <td>0.074353</td>\n",
              "      <td>0.066927</td>\n",
              "      <td>0.032855</td>\n",
              "      <td>0.141705</td>\n",
              "      <td>0.150401</td>\n",
              "      <td>0.158382</td>\n",
              "      <td>164.765782</td>\n",
              "      <td>1.741643</td>\n",
              "    </tr>\n",
              "    <tr>\n",
              "      <th>std</th>\n",
              "      <td>0.430707</td>\n",
              "      <td>0.409454</td>\n",
              "      <td>2.467781</td>\n",
              "      <td>0.816334</td>\n",
              "      <td>0.925291</td>\n",
              "      <td>3.075954</td>\n",
              "      <td>0.012221</td>\n",
              "      <td>0.020381</td>\n",
              "      <td>0.159553</td>\n",
              "      <td>0.647588</td>\n",
              "      <td>0.195441</td>\n",
              "      <td>5.537516e+04</td>\n",
              "      <td>76.779586</td>\n",
              "      <td>7.649827</td>\n",
              "      <td>0.180402</td>\n",
              "      <td>0.905303</td>\n",
              "      <td>0.030561</td>\n",
              "      <td>0.211094</td>\n",
              "      <td>0.174791</td>\n",
              "      <td>0.193962</td>\n",
              "      <td>0.402612</td>\n",
              "      <td>0.451999</td>\n",
              "      <td>0.502065</td>\n",
              "      <td>981.988886</td>\n",
              "      <td>1.088559</td>\n",
              "    </tr>\n",
              "    <tr>\n",
              "      <th>min</th>\n",
              "      <td>1.000000</td>\n",
              "      <td>1.000000</td>\n",
              "      <td>0.000000</td>\n",
              "      <td>0.000000</td>\n",
              "      <td>0.000000</td>\n",
              "      <td>0.000000</td>\n",
              "      <td>0.000000</td>\n",
              "      <td>0.000000</td>\n",
              "      <td>0.000000</td>\n",
              "      <td>0.000000</td>\n",
              "      <td>0.000653</td>\n",
              "      <td>1.000000e+00</td>\n",
              "      <td>0.233000</td>\n",
              "      <td>0.000000</td>\n",
              "      <td>0.000000</td>\n",
              "      <td>0.000887</td>\n",
              "      <td>0.000000</td>\n",
              "      <td>0.000000</td>\n",
              "      <td>0.000000</td>\n",
              "      <td>0.000000</td>\n",
              "      <td>0.000000</td>\n",
              "      <td>0.000000</td>\n",
              "      <td>0.000000</td>\n",
              "      <td>0.000000</td>\n",
              "      <td>1.000000</td>\n",
              "    </tr>\n",
              "    <tr>\n",
              "      <th>25%</th>\n",
              "      <td>2.000000</td>\n",
              "      <td>1.000000</td>\n",
              "      <td>0.000000</td>\n",
              "      <td>0.000000</td>\n",
              "      <td>0.000000</td>\n",
              "      <td>0.000000</td>\n",
              "      <td>0.000000</td>\n",
              "      <td>0.000000</td>\n",
              "      <td>0.000000</td>\n",
              "      <td>0.000000</td>\n",
              "      <td>0.199675</td>\n",
              "      <td>5.655172e+00</td>\n",
              "      <td>30.724000</td>\n",
              "      <td>0.000000</td>\n",
              "      <td>0.000000</td>\n",
              "      <td>0.040650</td>\n",
              "      <td>0.000000</td>\n",
              "      <td>0.000000</td>\n",
              "      <td>0.002265</td>\n",
              "      <td>0.000000</td>\n",
              "      <td>0.000000</td>\n",
              "      <td>0.000000</td>\n",
              "      <td>0.000000</td>\n",
              "      <td>0.000000</td>\n",
              "      <td>1.000000</td>\n",
              "    </tr>\n",
              "    <tr>\n",
              "      <th>50%</th>\n",
              "      <td>2.000000</td>\n",
              "      <td>1.000000</td>\n",
              "      <td>0.000000</td>\n",
              "      <td>0.000000</td>\n",
              "      <td>0.000000</td>\n",
              "      <td>0.000000</td>\n",
              "      <td>0.000000</td>\n",
              "      <td>0.000000</td>\n",
              "      <td>0.000000</td>\n",
              "      <td>0.000000</td>\n",
              "      <td>0.329743</td>\n",
              "      <td>8.500000e+00</td>\n",
              "      <td>62.501164</td>\n",
              "      <td>0.000000</td>\n",
              "      <td>0.000000</td>\n",
              "      <td>0.124031</td>\n",
              "      <td>0.000000</td>\n",
              "      <td>0.003968</td>\n",
              "      <td>0.015873</td>\n",
              "      <td>0.000000</td>\n",
              "      <td>0.011834</td>\n",
              "      <td>0.014563</td>\n",
              "      <td>0.015873</td>\n",
              "      <td>0.000000</td>\n",
              "      <td>1.000000</td>\n",
              "    </tr>\n",
              "    <tr>\n",
              "      <th>75%</th>\n",
              "      <td>2.000000</td>\n",
              "      <td>1.000000</td>\n",
              "      <td>0.008621</td>\n",
              "      <td>0.000000</td>\n",
              "      <td>0.000000</td>\n",
              "      <td>0.000000</td>\n",
              "      <td>0.000000</td>\n",
              "      <td>0.000000</td>\n",
              "      <td>0.000000</td>\n",
              "      <td>0.150183</td>\n",
              "      <td>0.460492</td>\n",
              "      <td>1.308654e+01</td>\n",
              "      <td>112.246500</td>\n",
              "      <td>0.000000</td>\n",
              "      <td>0.009091</td>\n",
              "      <td>0.364486</td>\n",
              "      <td>0.000000</td>\n",
              "      <td>0.060000</td>\n",
              "      <td>0.059016</td>\n",
              "      <td>0.000000</td>\n",
              "      <td>0.117188</td>\n",
              "      <td>0.118644</td>\n",
              "      <td>0.122396</td>\n",
              "      <td>178.666667</td>\n",
              "      <td>2.000000</td>\n",
              "    </tr>\n",
              "    <tr>\n",
              "      <th>max</th>\n",
              "      <td>3.000000</td>\n",
              "      <td>2.000000</td>\n",
              "      <td>895.304000</td>\n",
              "      <td>4.000000</td>\n",
              "      <td>4.000000</td>\n",
              "      <td>624.000000</td>\n",
              "      <td>2.333333</td>\n",
              "      <td>3.000000</td>\n",
              "      <td>27.333333</td>\n",
              "      <td>262.666667</td>\n",
              "      <td>1.000000</td>\n",
              "      <td>3.826604e+07</td>\n",
              "      <td>7541.026000</td>\n",
              "      <td>3228.000000</td>\n",
              "      <td>63.388889</td>\n",
              "      <td>75.662281</td>\n",
              "      <td>8.196850</td>\n",
              "      <td>17.201754</td>\n",
              "      <td>18.756140</td>\n",
              "      <td>19.612903</td>\n",
              "      <td>27.905983</td>\n",
              "      <td>45.083333</td>\n",
              "      <td>55.153846</td>\n",
              "      <td>39304.000000</td>\n",
              "      <td>4.000000</td>\n",
              "    </tr>\n",
              "  </tbody>\n",
              "</table>\n",
              "</div>"
            ],
            "text/plain": [
              "                tier         gender  ...          avgt2      age_group\n",
              "count  488877.000000  488877.000000  ...  488877.000000  488877.000000\n",
              "mean        1.975382       1.213037  ...     164.765782       1.741643\n",
              "std         0.430707       0.409454  ...     981.988886       1.088559\n",
              "min         1.000000       1.000000  ...       0.000000       1.000000\n",
              "25%         2.000000       1.000000  ...       0.000000       1.000000\n",
              "50%         2.000000       1.000000  ...       0.000000       1.000000\n",
              "75%         2.000000       1.000000  ...     178.666667       2.000000\n",
              "max         3.000000       2.000000  ...   39304.000000       4.000000\n",
              "\n",
              "[8 rows x 25 columns]"
            ]
          },
          "metadata": {
            "tags": []
          },
          "execution_count": 115
        }
      ]
    },
    {
      "cell_type": "code",
      "metadata": {
        "colab": {
          "base_uri": "https://localhost:8080/",
          "height": 701
        },
        "id": "QXJDaslVO0CM",
        "outputId": "0e2598e9-99b4-4292-a738-607a8272265f"
      },
      "source": [
        "plt.figure(figsize=(4,12))\r\n",
        "boxplot = train.boxplot(column=['max_repetitive_punc'])"
      ],
      "execution_count": 116,
      "outputs": [
        {
          "output_type": "display_data",
          "data": {
            "image/png": "[encoded data removed]",
            "text/plain": [
              "<Figure size 288x864 with 1 Axes>"
            ]
          },
          "metadata": {
            "tags": [],
            "needs_background": "light"
          }
        }
      ]
    },
    {
      "cell_type": "code",
      "metadata": {
        "colab": {
          "base_uri": "https://localhost:8080/",
          "height": 592
        },
        "id": "nyACEO84PPGa",
        "outputId": "4ca0dd42-bf83-4708-d340-13259a2d662e"
      },
      "source": [
        "plt.figure(figsize=(4,10))\r\n",
        "boxplot = df14.boxplot(column=['slot1_trails_watched_per_day'])"
      ],
      "execution_count": 117,
      "outputs": [
        {
          "output_type": "display_data",
          "data": {
            "image/png": "[encoded data removed]",
            "text/plain": [
              "<Figure size 288x720 with 1 Axes>"
            ]
          },
          "metadata": {
            "tags": [],
            "needs_background": "light"
          }
        }
      ]
    },
    {
      "cell_type": "code",
      "metadata": {
        "colab": {
          "base_uri": "https://localhost:8080/",
          "height": 592
        },
        "id": "GtNvWOtQTlNk",
        "outputId": "aa657fb5-2056-481e-c7d9-39ffbee8b415"
      },
      "source": [
        "plt.figure(figsize=(4,10))\r\n",
        "boxplot = test.boxplot(column=['slot1_trails_watched_per_day'])"
      ],
      "execution_count": 118,
      "outputs": [
        {
          "output_type": "display_data",
          "data": {
            "image/png": "[encoded data removed]",
            "text/plain": [
              "<Figure size 288x720 with 1 Axes>"
            ]
          },
          "metadata": {
            "tags": [],
            "needs_background": "light"
          }
        }
      ]
    },
    {
      "cell_type": "code",
      "metadata": {
        "id": "FtXEAMMJ0d4V"
      },
      "source": [
        "# def download_preds(df_download, file_name = 'train_out.csv'):\r\n",
        "#   df_download.to_csv(file_name)\r\n",
        "#   from google.colab import files\r\n",
        "#   files.download(file_name)\r\n",
        "# download_preds(df16, file_name = 'train_out.csv')"
      ],
      "execution_count": 119,
      "outputs": []
    },
    {
      "cell_type": "code",
      "metadata": {
        "id": "ipO6XUjF08lN"
      },
      "source": [
        "train_out=pd.read_csv('/content/drive/MyDrive/train_out.csv')"
      ],
      "execution_count": 120,
      "outputs": []
    },
    {
      "cell_type": "code",
      "metadata": {
        "colab": {
          "base_uri": "https://localhost:8080/",
          "height": 127
        },
        "id": "G7SyVvZR4wxF",
        "outputId": "3c597ea6-726a-4272-a1d1-3667d03a0d94"
      },
      "source": [
        "train_out.drop([\"Unnamed: 0\"], axis=1, inplace=True)\r\n",
        "train_out.head(2)"
      ],
      "execution_count": 121,
      "outputs": [
        {
          "output_type": "execute_result",
          "data": {
            "text/html": [
              "<div>\n",
              "<style scoped>\n",
              "    .dataframe tbody tr th:only-of-type {\n",
              "        vertical-align: middle;\n",
              "    }\n",
              "\n",
              "    .dataframe tbody tr th {\n",
              "        vertical-align: top;\n",
              "    }\n",
              "\n",
              "    .dataframe thead th {\n",
              "        text-align: right;\n",
              "    }\n",
              "</style>\n",
              "<table border=\"1\" class=\"dataframe\">\n",
              "  <thead>\n",
              "    <tr style=\"text-align: right;\">\n",
              "      <th></th>\n",
              "      <th>tier</th>\n",
              "      <th>gender</th>\n",
              "      <th>following_rate</th>\n",
              "      <th>followers_avg_age</th>\n",
              "      <th>following_avg_age</th>\n",
              "      <th>max_repetitive_punc</th>\n",
              "      <th>num_of_hashtags_per_action</th>\n",
              "      <th>emoji_count_per_action</th>\n",
              "      <th>punctuations_per_action</th>\n",
              "      <th>number_of_words_per_action</th>\n",
              "      <th>avgCompletion</th>\n",
              "      <th>avgTimeSpent</th>\n",
              "      <th>avgDuration</th>\n",
              "      <th>avgComments</th>\n",
              "      <th>creations</th>\n",
              "      <th>content_views</th>\n",
              "      <th>num_of_comments</th>\n",
              "      <th>weekends_trails_watched_per_day</th>\n",
              "      <th>weekdays_trails_watched_per_day</th>\n",
              "      <th>slot1_trails_watched_per_day</th>\n",
              "      <th>slot2_trails_watched_per_day</th>\n",
              "      <th>slot3_trails_watched_per_day</th>\n",
              "      <th>slot4_trails_watched_per_day</th>\n",
              "      <th>avgt2</th>\n",
              "      <th>age_group</th>\n",
              "    </tr>\n",
              "  </thead>\n",
              "  <tbody>\n",
              "    <tr>\n",
              "      <th>0</th>\n",
              "      <td>2</td>\n",
              "      <td>1</td>\n",
              "      <td>0.0</td>\n",
              "      <td>0.0</td>\n",
              "      <td>0.0</td>\n",
              "      <td>0</td>\n",
              "      <td>0.0</td>\n",
              "      <td>0.0</td>\n",
              "      <td>0.000000</td>\n",
              "      <td>0.000000</td>\n",
              "      <td>0.463330</td>\n",
              "      <td>34.160000</td>\n",
              "      <td>53.996091</td>\n",
              "      <td>0</td>\n",
              "      <td>0.000000</td>\n",
              "      <td>0.20000</td>\n",
              "      <td>0.0</td>\n",
              "      <td>0.041667</td>\n",
              "      <td>0.025000</td>\n",
              "      <td>0.0</td>\n",
              "      <td>0.000000</td>\n",
              "      <td>0.175</td>\n",
              "      <td>0.033333</td>\n",
              "      <td>0.0</td>\n",
              "      <td>1</td>\n",
              "    </tr>\n",
              "    <tr>\n",
              "      <th>1</th>\n",
              "      <td>2</td>\n",
              "      <td>2</td>\n",
              "      <td>0.0</td>\n",
              "      <td>0.0</td>\n",
              "      <td>0.0</td>\n",
              "      <td>0</td>\n",
              "      <td>0.0</td>\n",
              "      <td>0.0</td>\n",
              "      <td>0.076923</td>\n",
              "      <td>0.153846</td>\n",
              "      <td>0.429468</td>\n",
              "      <td>15.285714</td>\n",
              "      <td>96.231625</td>\n",
              "      <td>0</td>\n",
              "      <td>0.008475</td>\n",
              "      <td>0.09322</td>\n",
              "      <td>0.0</td>\n",
              "      <td>0.012712</td>\n",
              "      <td>0.018644</td>\n",
              "      <td>0.0</td>\n",
              "      <td>0.084746</td>\n",
              "      <td>0.000</td>\n",
              "      <td>0.033898</td>\n",
              "      <td>82.5</td>\n",
              "      <td>2</td>\n",
              "    </tr>\n",
              "  </tbody>\n",
              "</table>\n",
              "</div>"
            ],
            "text/plain": [
              "   tier  gender  following_rate  ...  slot4_trails_watched_per_day  avgt2  age_group\n",
              "0     2       1             0.0  ...                      0.033333    0.0          1\n",
              "1     2       2             0.0  ...                      0.033898   82.5          2\n",
              "\n",
              "[2 rows x 25 columns]"
            ]
          },
          "metadata": {
            "tags": []
          },
          "execution_count": 121
        }
      ]
    },
    {
      "cell_type": "code",
      "metadata": {
        "colab": {
          "base_uri": "https://localhost:8080/",
          "height": 127
        },
        "id": "mu-P6-uLpMbu",
        "outputId": "ebe1170a-6588-4d02-c705-ef4efdc1d867"
      },
      "source": [
        "train_out.head(2)"
      ],
      "execution_count": 156,
      "outputs": [
        {
          "output_type": "execute_result",
          "data": {
            "text/html": [
              "<div>\n",
              "<style scoped>\n",
              "    .dataframe tbody tr th:only-of-type {\n",
              "        vertical-align: middle;\n",
              "    }\n",
              "\n",
              "    .dataframe tbody tr th {\n",
              "        vertical-align: top;\n",
              "    }\n",
              "\n",
              "    .dataframe thead th {\n",
              "        text-align: right;\n",
              "    }\n",
              "</style>\n",
              "<table border=\"1\" class=\"dataframe\">\n",
              "  <thead>\n",
              "    <tr style=\"text-align: right;\">\n",
              "      <th></th>\n",
              "      <th>tier</th>\n",
              "      <th>gender</th>\n",
              "      <th>following_rate</th>\n",
              "      <th>followers_avg_age</th>\n",
              "      <th>following_avg_age</th>\n",
              "      <th>max_repetitive_punc</th>\n",
              "      <th>num_of_hashtags_per_action</th>\n",
              "      <th>emoji_count_per_action</th>\n",
              "      <th>punctuations_per_action</th>\n",
              "      <th>number_of_words_per_action</th>\n",
              "      <th>avgCompletion</th>\n",
              "      <th>avgTimeSpent</th>\n",
              "      <th>avgDuration</th>\n",
              "      <th>avgComments</th>\n",
              "      <th>creations</th>\n",
              "      <th>content_views</th>\n",
              "      <th>num_of_comments</th>\n",
              "      <th>weekends_trails_watched_per_day</th>\n",
              "      <th>weekdays_trails_watched_per_day</th>\n",
              "      <th>slot1_trails_watched_per_day</th>\n",
              "      <th>slot2_trails_watched_per_day</th>\n",
              "      <th>slot3_trails_watched_per_day</th>\n",
              "      <th>slot4_trails_watched_per_day</th>\n",
              "      <th>avgt2</th>\n",
              "      <th>age_group</th>\n",
              "    </tr>\n",
              "  </thead>\n",
              "  <tbody>\n",
              "    <tr>\n",
              "      <th>0</th>\n",
              "      <td>2</td>\n",
              "      <td>1</td>\n",
              "      <td>0.0</td>\n",
              "      <td>0.0</td>\n",
              "      <td>0.0</td>\n",
              "      <td>0</td>\n",
              "      <td>0.0</td>\n",
              "      <td>0.0</td>\n",
              "      <td>0.000000</td>\n",
              "      <td>0.000000</td>\n",
              "      <td>0.463330</td>\n",
              "      <td>34.160000</td>\n",
              "      <td>53.996091</td>\n",
              "      <td>0</td>\n",
              "      <td>0.000000</td>\n",
              "      <td>0.20000</td>\n",
              "      <td>0.0</td>\n",
              "      <td>0.041667</td>\n",
              "      <td>0.025000</td>\n",
              "      <td>0.0</td>\n",
              "      <td>0.000000</td>\n",
              "      <td>0.175</td>\n",
              "      <td>0.033333</td>\n",
              "      <td>0.0</td>\n",
              "      <td>1</td>\n",
              "    </tr>\n",
              "    <tr>\n",
              "      <th>1</th>\n",
              "      <td>2</td>\n",
              "      <td>2</td>\n",
              "      <td>0.0</td>\n",
              "      <td>0.0</td>\n",
              "      <td>0.0</td>\n",
              "      <td>0</td>\n",
              "      <td>0.0</td>\n",
              "      <td>0.0</td>\n",
              "      <td>0.076923</td>\n",
              "      <td>0.153846</td>\n",
              "      <td>0.429468</td>\n",
              "      <td>15.285714</td>\n",
              "      <td>96.231625</td>\n",
              "      <td>0</td>\n",
              "      <td>0.008475</td>\n",
              "      <td>0.09322</td>\n",
              "      <td>0.0</td>\n",
              "      <td>0.012712</td>\n",
              "      <td>0.018644</td>\n",
              "      <td>0.0</td>\n",
              "      <td>0.084746</td>\n",
              "      <td>0.000</td>\n",
              "      <td>0.033898</td>\n",
              "      <td>82.5</td>\n",
              "      <td>2</td>\n",
              "    </tr>\n",
              "  </tbody>\n",
              "</table>\n",
              "</div>"
            ],
            "text/plain": [
              "   tier  gender  following_rate  ...  slot4_trails_watched_per_day  avgt2  age_group\n",
              "0     2       1             0.0  ...                      0.033333    0.0          1\n",
              "1     2       2             0.0  ...                      0.033898   82.5          2\n",
              "\n",
              "[2 rows x 25 columns]"
            ]
          },
          "metadata": {
            "tags": []
          },
          "execution_count": 156
        }
      ]
    },
    {
      "cell_type": "code",
      "metadata": {
        "id": "63yTvMfhoSK3"
      },
      "source": [
        "y = train_out['age_group']\r\n",
        "X = train_out.drop(['age_group'], axis=1, inplace=False)"
      ],
      "execution_count": 137,
      "outputs": []
    },
    {
      "cell_type": "code",
      "metadata": {
        "colab": {
          "base_uri": "https://localhost:8080/"
        },
        "id": "RmUjtFLTfnX8",
        "outputId": "681d31de-cd0f-4baa-eb44-f5c0c54365ae"
      },
      "source": [
        "from imblearn.combine import SMOTETomek\r\n",
        "smk = SMOTETomek(random_state=42)\r\n",
        "X_res,y_res=smk.fit_sample(X,y)"
      ],
      "execution_count": 138,
      "outputs": [
        {
          "output_type": "stream",
          "text": [
            "/usr/local/lib/python3.6/dist-packages/sklearn/utils/deprecation.py:87: FutureWarning: Function safe_indexing is deprecated; safe_indexing is deprecated in version 0.22 and will be removed in version 0.24.\n",
            "  warnings.warn(msg, category=FutureWarning)\n"
          ],
          "name": "stderr"
        }
      ]
    },
    {
      "cell_type": "code",
      "metadata": {
        "id": "Ycx66dg_oSS0"
      },
      "source": [
        "train_x,test_x,train_y,test_y=train_test_split(X_res,y_res,test_size=.0625,random_state=42, stratify = y_res)"
      ],
      "execution_count": 139,
      "outputs": []
    },
    {
      "cell_type": "code",
      "metadata": {
        "colab": {
          "base_uri": "https://localhost:8080/"
        },
        "id": "3LlR_uYA_-Y3",
        "outputId": "a25fe020-a9ce-435e-f48a-5e654fd6f20c"
      },
      "source": [
        "from sklearn.utils.class_weight import compute_class_weight\r\n",
        "classes = np.unique(train_y)\r\n",
        "weights = compute_class_weight(class_weight='balanced', classes=classes, y=train_y)\r\n",
        "class_weights = dict(zip(classes, weights))\r\n",
        "class_weights"
      ],
      "execution_count": 124,
      "outputs": [
        {
          "output_type": "execute_result",
          "data": {
            "text/plain": [
              "{1: 0.3963681313168011,\n",
              " 2: 2.0591891211734463,\n",
              " 3: 2.02372098364131,\n",
              " 4: 2.0107554720822876}"
            ]
          },
          "metadata": {
            "tags": []
          },
          "execution_count": 124
        }
      ]
    },
    {
      "cell_type": "code",
      "metadata": {
        "id": "axC-lA5MFtN7"
      },
      "source": [
        "class_weights = {1: 0.1,\r\n",
        " 2: 4.0591891211734463,\r\n",
        " 3: 4.02372098364131,\r\n",
        " 4: 4.0107554720822876}"
      ],
      "execution_count": 125,
      "outputs": []
    },
    {
      "cell_type": "code",
      "metadata": {
        "id": "INE5vCGloSWD"
      },
      "source": [
        "xgb_clf = XGBClassifier(tree_method = 'gpu_hist', gpu_id=0, objective = \"multi:softmax\", num_class=4,n_estimators=1000, max_depth=15,learning_rate=0.005)"
      ],
      "execution_count": 140,
      "outputs": []
    },
    {
      "cell_type": "code",
      "metadata": {
        "id": "a8sTSTDqoSZC"
      },
      "source": [
        "xgb_hist = xgb_clf.fit(train_x, train_y)"
      ],
      "execution_count": 141,
      "outputs": []
    },
    {
      "cell_type": "code",
      "metadata": {
        "colab": {
          "base_uri": "https://localhost:8080/"
        },
        "id": "Wl4VWbAboXZy",
        "outputId": "7e61bcdd-2da9-4e36-e9c9-88a2d9784f57"
      },
      "source": [
        "test_x.shape"
      ],
      "execution_count": 150,
      "outputs": [
        {
          "output_type": "execute_result",
          "data": {
            "text/plain": [
              "(75985, 24)"
            ]
          },
          "metadata": {
            "tags": []
          },
          "execution_count": 150
        }
      ]
    },
    {
      "cell_type": "code",
      "metadata": {
        "colab": {
          "base_uri": "https://localhost:8080/"
        },
        "id": "sFxcTscu5uKf",
        "outputId": "6a7b0a41-234c-4513-9b52-a0347292bb25"
      },
      "source": [
        "xgb_clf.score(train_x,train_y)"
      ],
      "execution_count": 128,
      "outputs": [
        {
          "output_type": "execute_result",
          "data": {
            "text/plain": [
              "0.9392473904399424"
            ]
          },
          "metadata": {
            "tags": []
          },
          "execution_count": 128
        }
      ]
    },
    {
      "cell_type": "code",
      "metadata": {
        "colab": {
          "base_uri": "https://localhost:8080/"
        },
        "id": "JO2MyDo15zQl",
        "outputId": "2cfbe1d5-b79c-49ec-c244-ef0cfaf6fafd"
      },
      "source": [
        "xgb_clf.score(test_x,test_y)"
      ],
      "execution_count": 129,
      "outputs": [
        {
          "output_type": "execute_result",
          "data": {
            "text/plain": [
              "0.742143511850203"
            ]
          },
          "metadata": {
            "tags": []
          },
          "execution_count": 129
        }
      ]
    },
    {
      "cell_type": "code",
      "metadata": {
        "colab": {
          "base_uri": "https://localhost:8080/"
        },
        "id": "QUBA3QYEoScB",
        "outputId": "0cc699bd-e2b9-4450-f795-0c9ec6f61103"
      },
      "source": [
        "from sklearn import metrics\r\n",
        "expected_y  = test_y\r\n",
        "predicted_y = xgb_clf.predict(test_x)\r\n",
        "print('Report: ')\r\n",
        "print(metrics.classification_report(expected_y, predicted_y))"
      ],
      "execution_count": 142,
      "outputs": [
        {
          "output_type": "stream",
          "text": [
            "Report: \n",
            "              precision    recall  f1-score   support\n",
            "\n",
            "           1       0.96      0.87      0.91     18902\n",
            "           2       0.63      0.78      0.70     19023\n",
            "           3       0.65      0.55      0.60     19024\n",
            "           4       0.65      0.66      0.66     19036\n",
            "\n",
            "    accuracy                           0.71     75985\n",
            "   macro avg       0.72      0.71      0.72     75985\n",
            "weighted avg       0.72      0.71      0.72     75985\n",
            "\n"
          ],
          "name": "stdout"
        }
      ]
    },
    {
      "cell_type": "code",
      "metadata": {
        "id": "aPTeBIpQ-flg"
      },
      "source": [
        "test=pd.read_csv('/content/drive/MyDrive/test_age_dataset.csv')"
      ],
      "execution_count": 151,
      "outputs": []
    },
    {
      "cell_type": "code",
      "metadata": {
        "colab": {
          "base_uri": "https://localhost:8080/",
          "height": 144
        },
        "id": "HXZtQDGwooYv",
        "outputId": "d052d189-60ac-45fe-b977-ea7a40313183"
      },
      "source": [
        "test.head(2)"
      ],
      "execution_count": 152,
      "outputs": [
        {
          "output_type": "execute_result",
          "data": {
            "text/html": [
              "<div>\n",
              "<style scoped>\n",
              "    .dataframe tbody tr th:only-of-type {\n",
              "        vertical-align: middle;\n",
              "    }\n",
              "\n",
              "    .dataframe tbody tr th {\n",
              "        vertical-align: top;\n",
              "    }\n",
              "\n",
              "    .dataframe thead th {\n",
              "        text-align: right;\n",
              "    }\n",
              "</style>\n",
              "<table border=\"1\" class=\"dataframe\">\n",
              "  <thead>\n",
              "    <tr style=\"text-align: right;\">\n",
              "      <th></th>\n",
              "      <th>Unnamed: 0</th>\n",
              "      <th>userId</th>\n",
              "      <th>tier</th>\n",
              "      <th>gender</th>\n",
              "      <th>following_rate</th>\n",
              "      <th>followers_avg_age</th>\n",
              "      <th>following_avg_age</th>\n",
              "      <th>max_repetitive_punc</th>\n",
              "      <th>num_of_hashtags_per_action</th>\n",
              "      <th>emoji_count_per_action</th>\n",
              "      <th>punctuations_per_action</th>\n",
              "      <th>number_of_words_per_action</th>\n",
              "      <th>avgCompletion</th>\n",
              "      <th>avgTimeSpent</th>\n",
              "      <th>avgDuration</th>\n",
              "      <th>avgComments</th>\n",
              "      <th>creations</th>\n",
              "      <th>content_views</th>\n",
              "      <th>num_of_comments</th>\n",
              "      <th>weekends_trails_watched_per_day</th>\n",
              "      <th>weekdays_trails_watched_per_day</th>\n",
              "      <th>slot1_trails_watched_per_day</th>\n",
              "      <th>slot2_trails_watched_per_day</th>\n",
              "      <th>slot3_trails_watched_per_day</th>\n",
              "      <th>slot4_trails_watched_per_day</th>\n",
              "      <th>avgt2</th>\n",
              "    </tr>\n",
              "  </thead>\n",
              "  <tbody>\n",
              "    <tr>\n",
              "      <th>0</th>\n",
              "      <td>62683</td>\n",
              "      <td>33840667</td>\n",
              "      <td>2</td>\n",
              "      <td>1</td>\n",
              "      <td>0.000000</td>\n",
              "      <td>0.0</td>\n",
              "      <td>0.0</td>\n",
              "      <td>0</td>\n",
              "      <td>0.0</td>\n",
              "      <td>0.0</td>\n",
              "      <td>0.0</td>\n",
              "      <td>0.0</td>\n",
              "      <td>0.033242</td>\n",
              "      <td>4.5</td>\n",
              "      <td>120.313571</td>\n",
              "      <td>0</td>\n",
              "      <td>0.0</td>\n",
              "      <td>0.062992</td>\n",
              "      <td>0.0</td>\n",
              "      <td>0.0</td>\n",
              "      <td>0.012598</td>\n",
              "      <td>0.0</td>\n",
              "      <td>0.0</td>\n",
              "      <td>0.062992</td>\n",
              "      <td>0.0</td>\n",
              "      <td>0.0</td>\n",
              "    </tr>\n",
              "    <tr>\n",
              "      <th>1</th>\n",
              "      <td>173104</td>\n",
              "      <td>1828421</td>\n",
              "      <td>2</td>\n",
              "      <td>1</td>\n",
              "      <td>0.001818</td>\n",
              "      <td>0.0</td>\n",
              "      <td>0.0</td>\n",
              "      <td>0</td>\n",
              "      <td>0.0</td>\n",
              "      <td>0.0</td>\n",
              "      <td>0.0</td>\n",
              "      <td>0.0</td>\n",
              "      <td>0.051057</td>\n",
              "      <td>9.5</td>\n",
              "      <td>188.615500</td>\n",
              "      <td>0</td>\n",
              "      <td>0.0</td>\n",
              "      <td>0.003636</td>\n",
              "      <td>0.0</td>\n",
              "      <td>0.0</td>\n",
              "      <td>0.000727</td>\n",
              "      <td>0.0</td>\n",
              "      <td>0.0</td>\n",
              "      <td>0.003636</td>\n",
              "      <td>0.0</td>\n",
              "      <td>0.0</td>\n",
              "    </tr>\n",
              "  </tbody>\n",
              "</table>\n",
              "</div>"
            ],
            "text/plain": [
              "   Unnamed: 0    userId  ...  slot4_trails_watched_per_day  avgt2\n",
              "0       62683  33840667  ...                           0.0    0.0\n",
              "1      173104   1828421  ...                           0.0    0.0\n",
              "\n",
              "[2 rows x 26 columns]"
            ]
          },
          "metadata": {
            "tags": []
          },
          "execution_count": 152
        }
      ]
    },
    {
      "cell_type": "code",
      "metadata": {
        "id": "46ZKl_tioCkl"
      },
      "source": [
        "test.drop([\"Unnamed: 0\",\"userId\"], axis=1, inplace=True)"
      ],
      "execution_count": 153,
      "outputs": []
    },
    {
      "cell_type": "code",
      "metadata": {
        "colab": {
          "base_uri": "https://localhost:8080/"
        },
        "id": "-AOAW6gnpfHx",
        "outputId": "c6693d1b-d540-4389-80a2-05c7fe281d22"
      },
      "source": [
        "test.columns"
      ],
      "execution_count": 158,
      "outputs": [
        {
          "output_type": "execute_result",
          "data": {
            "text/plain": [
              "Index(['tier', 'gender', 'following_rate', 'followers_avg_age',\n",
              "       'following_avg_age', 'max_repetitive_punc',\n",
              "       'num_of_hashtags_per_action', 'emoji_count_per_action',\n",
              "       'punctuations_per_action', 'number_of_words_per_action',\n",
              "       'avgCompletion', 'avgTimeSpent', 'avgDuration', 'avgComments',\n",
              "       'creations', 'content_views', 'num_of_comments',\n",
              "       'weekends_trails_watched_per_day', 'weekdays_trails_watched_per_day',\n",
              "       'slot1_trails_watched_per_day', 'slot2_trails_watched_per_day',\n",
              "       'slot3_trails_watched_per_day', 'slot4_trails_watched_per_day',\n",
              "       'avgt2'],\n",
              "      dtype='object')"
            ]
          },
          "metadata": {
            "tags": []
          },
          "execution_count": 158
        }
      ]
    },
    {
      "cell_type": "code",
      "metadata": {
        "colab": {
          "base_uri": "https://localhost:8080/"
        },
        "id": "vXfbEGaxo-nM",
        "outputId": "1918c3b5-d691-4981-b8bf-c97f588bd68a"
      },
      "source": [
        "test.shape"
      ],
      "execution_count": 154,
      "outputs": [
        {
          "output_type": "execute_result",
          "data": {
            "text/plain": [
              "(54320, 24)"
            ]
          },
          "metadata": {
            "tags": []
          },
          "execution_count": 154
        }
      ]
    },
    {
      "cell_type": "code",
      "metadata": {
        "colab": {
          "base_uri": "https://localhost:8080/",
          "height": 167
        },
        "id": "-iP5biqUpg-U",
        "outputId": "d9746115-bfc0-4647-def7-0fdf48acb71e"
      },
      "source": [
        "train_x.columns"
      ],
      "execution_count": 160,
      "outputs": [
        {
          "output_type": "error",
          "ename": "AttributeError",
          "evalue": "ignored",
          "traceback": [
            "\u001b[0;31m---------------------------------------------------------------------------\u001b[0m",
            "\u001b[0;31mAttributeError\u001b[0m                            Traceback (most recent call last)",
            "\u001b[0;32m<ipython-input-160-34992e7b4986>\u001b[0m in \u001b[0;36m<module>\u001b[0;34m()\u001b[0m\n\u001b[0;32m----> 1\u001b[0;31m \u001b[0mtrain_x\u001b[0m\u001b[0;34m.\u001b[0m\u001b[0mcolumns\u001b[0m\u001b[0;34m\u001b[0m\u001b[0;34m\u001b[0m\u001b[0m\n\u001b[0m",
            "\u001b[0;31mAttributeError\u001b[0m: 'numpy.ndarray' object has no attribute 'columns'"
          ]
        }
      ]
    },
    {
      "cell_type": "code",
      "metadata": {
        "colab": {
          "base_uri": "https://localhost:8080/",
          "height": 476
        },
        "id": "4Sqj1VTA-kCW",
        "outputId": "d95c5c71-9760-4c09-9b42-1bc9d837096b"
      },
      "source": [
        "prediction = xgb_clf.predict(test)"
      ],
      "execution_count": 157,
      "outputs": [
        {
          "output_type": "error",
          "ename": "ValueError",
          "evalue": "ignored",
          "traceback": [
            "\u001b[0;31m---------------------------------------------------------------------------\u001b[0m",
            "\u001b[0;31mValueError\u001b[0m                                Traceback (most recent call last)",
            "\u001b[0;32m<ipython-input-157-940037915cfb>\u001b[0m in \u001b[0;36m<module>\u001b[0;34m()\u001b[0m\n\u001b[0;32m----> 1\u001b[0;31m \u001b[0mprediction\u001b[0m \u001b[0;34m=\u001b[0m \u001b[0mxgb_clf\u001b[0m\u001b[0;34m.\u001b[0m\u001b[0mpredict\u001b[0m\u001b[0;34m(\u001b[0m\u001b[0mtest\u001b[0m\u001b[0;34m)\u001b[0m\u001b[0;34m\u001b[0m\u001b[0;34m\u001b[0m\u001b[0m\n\u001b[0m",
            "\u001b[0;32m/usr/local/lib/python3.6/dist-packages/xgboost/sklearn.py\u001b[0m in \u001b[0;36mpredict\u001b[0;34m(self, data, output_margin, ntree_limit, validate_features)\u001b[0m\n\u001b[1;32m    789\u001b[0m                                                  \u001b[0moutput_margin\u001b[0m\u001b[0;34m=\u001b[0m\u001b[0moutput_margin\u001b[0m\u001b[0;34m,\u001b[0m\u001b[0;34m\u001b[0m\u001b[0;34m\u001b[0m\u001b[0m\n\u001b[1;32m    790\u001b[0m                                                  \u001b[0mntree_limit\u001b[0m\u001b[0;34m=\u001b[0m\u001b[0mntree_limit\u001b[0m\u001b[0;34m,\u001b[0m\u001b[0;34m\u001b[0m\u001b[0;34m\u001b[0m\u001b[0m\n\u001b[0;32m--> 791\u001b[0;31m                                                  validate_features=validate_features)\n\u001b[0m\u001b[1;32m    792\u001b[0m         \u001b[0;32mif\u001b[0m \u001b[0moutput_margin\u001b[0m\u001b[0;34m:\u001b[0m\u001b[0;34m\u001b[0m\u001b[0;34m\u001b[0m\u001b[0m\n\u001b[1;32m    793\u001b[0m             \u001b[0;31m# If output_margin is active, simply return the scores\u001b[0m\u001b[0;34m\u001b[0m\u001b[0;34m\u001b[0m\u001b[0;34m\u001b[0m\u001b[0m\n",
            "\u001b[0;32m/usr/local/lib/python3.6/dist-packages/xgboost/core.py\u001b[0m in \u001b[0;36mpredict\u001b[0;34m(self, data, output_margin, ntree_limit, pred_leaf, pred_contribs, approx_contribs, pred_interactions, validate_features)\u001b[0m\n\u001b[1;32m   1282\u001b[0m \u001b[0;34m\u001b[0m\u001b[0m\n\u001b[1;32m   1283\u001b[0m         \u001b[0;32mif\u001b[0m \u001b[0mvalidate_features\u001b[0m\u001b[0;34m:\u001b[0m\u001b[0;34m\u001b[0m\u001b[0;34m\u001b[0m\u001b[0m\n\u001b[0;32m-> 1284\u001b[0;31m             \u001b[0mself\u001b[0m\u001b[0;34m.\u001b[0m\u001b[0m_validate_features\u001b[0m\u001b[0;34m(\u001b[0m\u001b[0mdata\u001b[0m\u001b[0;34m)\u001b[0m\u001b[0;34m\u001b[0m\u001b[0;34m\u001b[0m\u001b[0m\n\u001b[0m\u001b[1;32m   1285\u001b[0m \u001b[0;34m\u001b[0m\u001b[0m\n\u001b[1;32m   1286\u001b[0m         \u001b[0mlength\u001b[0m \u001b[0;34m=\u001b[0m \u001b[0mc_bst_ulong\u001b[0m\u001b[0;34m(\u001b[0m\u001b[0;34m)\u001b[0m\u001b[0;34m\u001b[0m\u001b[0;34m\u001b[0m\u001b[0m\n",
            "\u001b[0;32m/usr/local/lib/python3.6/dist-packages/xgboost/core.py\u001b[0m in \u001b[0;36m_validate_features\u001b[0;34m(self, data)\u001b[0m\n\u001b[1;32m   1688\u001b[0m \u001b[0;34m\u001b[0m\u001b[0m\n\u001b[1;32m   1689\u001b[0m                 raise ValueError(msg.format(self.feature_names,\n\u001b[0;32m-> 1690\u001b[0;31m                                             data.feature_names))\n\u001b[0m\u001b[1;32m   1691\u001b[0m \u001b[0;34m\u001b[0m\u001b[0m\n\u001b[1;32m   1692\u001b[0m     \u001b[0;32mdef\u001b[0m \u001b[0mget_split_value_histogram\u001b[0m\u001b[0;34m(\u001b[0m\u001b[0mself\u001b[0m\u001b[0;34m,\u001b[0m \u001b[0mfeature\u001b[0m\u001b[0;34m,\u001b[0m \u001b[0mfmap\u001b[0m\u001b[0;34m=\u001b[0m\u001b[0;34m''\u001b[0m\u001b[0;34m,\u001b[0m \u001b[0mbins\u001b[0m\u001b[0;34m=\u001b[0m\u001b[0;32mNone\u001b[0m\u001b[0;34m,\u001b[0m \u001b[0mas_pandas\u001b[0m\u001b[0;34m=\u001b[0m\u001b[0;32mTrue\u001b[0m\u001b[0;34m)\u001b[0m\u001b[0;34m:\u001b[0m\u001b[0;34m\u001b[0m\u001b[0;34m\u001b[0m\u001b[0m\n",
            "\u001b[0;31mValueError\u001b[0m: feature_names mismatch: ['f0', 'f1', 'f2', 'f3', 'f4', 'f5', 'f6', 'f7', 'f8', 'f9', 'f10', 'f11', 'f12', 'f13', 'f14', 'f15', 'f16', 'f17', 'f18', 'f19', 'f20', 'f21', 'f22', 'f23'] ['tier', 'gender', 'following_rate', 'followers_avg_age', 'following_avg_age', 'max_repetitive_punc', 'num_of_hashtags_per_action', 'emoji_count_per_action', 'punctuations_per_action', 'number_of_words_per_action', 'avgCompletion', 'avgTimeSpent', 'avgDuration', 'avgComments', 'creations', 'content_views', 'num_of_comments', 'weekends_trails_watched_per_day', 'weekdays_trails_watched_per_day', 'slot1_trails_watched_per_day', 'slot2_trails_watched_per_day', 'slot3_trails_watched_per_day', 'slot4_trails_watched_per_day', 'avgt2']\nexpected f15, f17, f14, f7, f0, f13, f11, f4, f3, f1, f6, f5, f22, f12, f2, f9, f16, f20, f8, f10, f23, f19, f18, f21 in input data\ntraining data did not have the following fields: avgCompletion, slot1_trails_watched_per_day, avgComments, max_repetitive_punc, slot2_trails_watched_per_day, avgDuration, weekdays_trails_watched_per_day, following_rate, weekends_trails_watched_per_day, avgt2, number_of_words_per_action, num_of_comments, creations, gender, tier, following_avg_age, followers_avg_age, num_of_hashtags_per_action, avgTimeSpent, content_views, slot3_trails_watched_per_day, slot4_trails_watched_per_day, punctuations_per_action, emoji_count_per_action"
          ]
        }
      ]
    },
    {
      "cell_type": "code",
      "metadata": {
        "id": "w3TI1yPj_Hwi"
      },
      "source": [
        "df_pred = pd.DataFrame({\"prediction\" : predict}, columns = [\"prediction\"]).set_index(\"prediction\")"
      ],
      "execution_count": 133,
      "outputs": []
    },
    {
      "cell_type": "code",
      "metadata": {
        "colab": {
          "base_uri": "https://localhost:8080/",
          "height": 121
        },
        "id": "2E-MLv3X_HpR",
        "outputId": "32bfaa08-e052-46b6-c71b-7963e7cefdf3"
      },
      "source": [
        "df_pred.head(2)"
      ],
      "execution_count": 134,
      "outputs": [
        {
          "output_type": "execute_result",
          "data": {
            "text/html": [
              "<div>\n",
              "<style scoped>\n",
              "    .dataframe tbody tr th:only-of-type {\n",
              "        vertical-align: middle;\n",
              "    }\n",
              "\n",
              "    .dataframe tbody tr th {\n",
              "        vertical-align: top;\n",
              "    }\n",
              "\n",
              "    .dataframe thead th {\n",
              "        text-align: right;\n",
              "    }\n",
              "</style>\n",
              "<table border=\"1\" class=\"dataframe\">\n",
              "  <thead>\n",
              "    <tr style=\"text-align: right;\">\n",
              "      <th></th>\n",
              "    </tr>\n",
              "    <tr>\n",
              "      <th>prediction</th>\n",
              "    </tr>\n",
              "  </thead>\n",
              "  <tbody>\n",
              "    <tr>\n",
              "      <th>1</th>\n",
              "    </tr>\n",
              "    <tr>\n",
              "      <th>1</th>\n",
              "    </tr>\n",
              "  </tbody>\n",
              "</table>\n",
              "</div>"
            ],
            "text/plain": [
              "Empty DataFrame\n",
              "Columns: []\n",
              "Index: [1, 1]"
            ]
          },
          "metadata": {
            "tags": []
          },
          "execution_count": 134
        }
      ]
    },
    {
      "cell_type": "code",
      "metadata": {
        "colab": {
          "base_uri": "https://localhost:8080/",
          "height": 16
        },
        "id": "RuVRDD5U_HlN",
        "outputId": "7f76547a-4e9d-44a3-9e78-a82f2a95a937"
      },
      "source": [
        "def download_preds(df_pred, file_name = 'outliers_4_test_predicted.csv'):\r\n",
        "  df_pred.to_csv(file_name)\r\n",
        "  from google.colab import files\r\n",
        "  files.download(file_name)\r\n",
        "download_preds(df_pred, file_name = 'outliers_4_test_predicted.csv')"
      ],
      "execution_count": 135,
      "outputs": [
        {
          "output_type": "display_data",
          "data": {
            "application/javascript": [
              "\n",
              "    async function download(id, filename, size) {\n",
              "      if (!google.colab.kernel.accessAllowed) {\n",
              "        return;\n",
              "      }\n",
              "      const div = document.createElement('div');\n",
              "      const label = document.createElement('label');\n",
              "      label.textContent = `Downloading \"${filename}\": `;\n",
              "      div.appendChild(label);\n",
              "      const progress = document.createElement('progress');\n",
              "      progress.max = size;\n",
              "      div.appendChild(progress);\n",
              "      document.body.appendChild(div);\n",
              "\n",
              "      const buffers = [];\n",
              "      let downloaded = 0;\n",
              "\n",
              "      const channel = await google.colab.kernel.comms.open(id);\n",
              "      // Send a message to notify the kernel that we're ready.\n",
              "      channel.send({})\n",
              "\n",
              "      for await (const message of channel.messages) {\n",
              "        // Send a message to notify the kernel that we're ready.\n",
              "        channel.send({})\n",
              "        if (message.buffers) {\n",
              "          for (const buffer of message.buffers) {\n",
              "            buffers.push(buffer);\n",
              "            downloaded += buffer.byteLength;\n",
              "            progress.value = downloaded;\n",
              "          }\n",
              "        }\n",
              "      }\n",
              "      const blob = new Blob(buffers, {type: 'application/binary'});\n",
              "      const a = document.createElement('a');\n",
              "      a.href = window.URL.createObjectURL(blob);\n",
              "      a.download = filename;\n",
              "      div.appendChild(a);\n",
              "      a.click();\n",
              "      div.remove();\n",
              "    }\n",
              "  "
            ],
            "text/plain": [
              "<IPython.core.display.Javascript object>"
            ]
          },
          "metadata": {
            "tags": []
          }
        },
        {
          "output_type": "display_data",
          "data": {
            "application/javascript": [
              "download(\"download_349f7dee-c547-4ef3-b55b-30a058239461\", \"outliers_4_test_predicted.csv\", 108651)"
            ],
            "text/plain": [
              "<IPython.core.display.Javascript object>"
            ]
          },
          "metadata": {
            "tags": []
          }
        }
      ]
    },
    {
      "cell_type": "code",
      "metadata": {
        "id": "ZS-u-DuS-j6M"
      },
      "source": [
        "# from sklearn.utils.class_weight import compute_class_weight\r\n",
        "# classes = np.unique(train_y)\r\n",
        "# weights = compute_class_weight(class_weight='balanced', classes=classes, y=train_y)\r\n",
        "# class_weights = dict(zip(classes, weights))\r\n",
        "# class_weights"
      ],
      "execution_count": 136,
      "outputs": []
    }
  ]
}