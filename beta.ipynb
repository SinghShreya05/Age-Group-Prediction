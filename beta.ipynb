{
  "nbformat": 4,
  "nbformat_minor": 0,
  "metadata": {
    "colab": {
      "name": "beta.ipynb",
      "provenance": []
    },
    "kernelspec": {
      "name": "python3",
      "display_name": "Python 3"
    },
    "accelerator": "GPU"
  },
  "cells": [
    {
      "cell_type": "code",
      "metadata": {
        "id": "JG0H3QqQqlfo"
      },
      "source": [
        "import pandas as pd\r\n",
        "import numpy as np\r\n",
        "import matplotlib.pyplot as plt\r\n",
        "import seaborn as sns\r\n",
        "import sklearn\r\n",
        "from xgboost import XGBClassifier\r\n",
        "from sklearn.model_selection import train_test_split\r\n",
        "from sklearn import metrics"
      ],
      "execution_count": 1,
      "outputs": []
    },
    {
      "cell_type": "code",
      "metadata": {
        "colab": {
          "base_uri": "https://localhost:8080/",
          "height": 127
        },
        "id": "vUhGZqsmqunm",
        "outputId": "0b51667c-50ed-46e4-aaa3-e3cf2628a3f2"
      },
      "source": [
        "train_out=pd.read_csv(\"/content/drive/MyDrive/train_out.csv\")\r\n",
        "train_out.drop([\"Unnamed: 0\"], axis=1, inplace=True)\r\n",
        "train_out.head(2)"
      ],
      "execution_count": 6,
      "outputs": [
        {
          "output_type": "execute_result",
          "data": {
            "text/html": [
              "<div>\n",
              "<style scoped>\n",
              "    .dataframe tbody tr th:only-of-type {\n",
              "        vertical-align: middle;\n",
              "    }\n",
              "\n",
              "    .dataframe tbody tr th {\n",
              "        vertical-align: top;\n",
              "    }\n",
              "\n",
              "    .dataframe thead th {\n",
              "        text-align: right;\n",
              "    }\n",
              "</style>\n",
              "<table border=\"1\" class=\"dataframe\">\n",
              "  <thead>\n",
              "    <tr style=\"text-align: right;\">\n",
              "      <th></th>\n",
              "      <th>tier</th>\n",
              "      <th>gender</th>\n",
              "      <th>following_rate</th>\n",
              "      <th>followers_avg_age</th>\n",
              "      <th>following_avg_age</th>\n",
              "      <th>max_repetitive_punc</th>\n",
              "      <th>num_of_hashtags_per_action</th>\n",
              "      <th>emoji_count_per_action</th>\n",
              "      <th>punctuations_per_action</th>\n",
              "      <th>number_of_words_per_action</th>\n",
              "      <th>avgCompletion</th>\n",
              "      <th>avgTimeSpent</th>\n",
              "      <th>avgDuration</th>\n",
              "      <th>avgComments</th>\n",
              "      <th>creations</th>\n",
              "      <th>content_views</th>\n",
              "      <th>num_of_comments</th>\n",
              "      <th>weekends_trails_watched_per_day</th>\n",
              "      <th>weekdays_trails_watched_per_day</th>\n",
              "      <th>slot1_trails_watched_per_day</th>\n",
              "      <th>slot2_trails_watched_per_day</th>\n",
              "      <th>slot3_trails_watched_per_day</th>\n",
              "      <th>slot4_trails_watched_per_day</th>\n",
              "      <th>avgt2</th>\n",
              "      <th>age_group</th>\n",
              "    </tr>\n",
              "  </thead>\n",
              "  <tbody>\n",
              "    <tr>\n",
              "      <th>0</th>\n",
              "      <td>2</td>\n",
              "      <td>1</td>\n",
              "      <td>0.0</td>\n",
              "      <td>0.0</td>\n",
              "      <td>0.0</td>\n",
              "      <td>0</td>\n",
              "      <td>0.0</td>\n",
              "      <td>0.0</td>\n",
              "      <td>0.000000</td>\n",
              "      <td>0.000000</td>\n",
              "      <td>0.463330</td>\n",
              "      <td>34.160000</td>\n",
              "      <td>53.996091</td>\n",
              "      <td>0</td>\n",
              "      <td>0.000000</td>\n",
              "      <td>0.20000</td>\n",
              "      <td>0.0</td>\n",
              "      <td>0.041667</td>\n",
              "      <td>0.025000</td>\n",
              "      <td>0.0</td>\n",
              "      <td>0.000000</td>\n",
              "      <td>0.175</td>\n",
              "      <td>0.033333</td>\n",
              "      <td>0.0</td>\n",
              "      <td>1</td>\n",
              "    </tr>\n",
              "    <tr>\n",
              "      <th>1</th>\n",
              "      <td>2</td>\n",
              "      <td>2</td>\n",
              "      <td>0.0</td>\n",
              "      <td>0.0</td>\n",
              "      <td>0.0</td>\n",
              "      <td>0</td>\n",
              "      <td>0.0</td>\n",
              "      <td>0.0</td>\n",
              "      <td>0.076923</td>\n",
              "      <td>0.153846</td>\n",
              "      <td>0.429468</td>\n",
              "      <td>15.285714</td>\n",
              "      <td>96.231625</td>\n",
              "      <td>0</td>\n",
              "      <td>0.008475</td>\n",
              "      <td>0.09322</td>\n",
              "      <td>0.0</td>\n",
              "      <td>0.012712</td>\n",
              "      <td>0.018644</td>\n",
              "      <td>0.0</td>\n",
              "      <td>0.084746</td>\n",
              "      <td>0.000</td>\n",
              "      <td>0.033898</td>\n",
              "      <td>82.5</td>\n",
              "      <td>2</td>\n",
              "    </tr>\n",
              "  </tbody>\n",
              "</table>\n",
              "</div>"
            ],
            "text/plain": [
              "   tier  gender  following_rate  ...  slot4_trails_watched_per_day  avgt2  age_group\n",
              "0     2       1             0.0  ...                      0.033333    0.0          1\n",
              "1     2       2             0.0  ...                      0.033898   82.5          2\n",
              "\n",
              "[2 rows x 25 columns]"
            ]
          },
          "metadata": {
            "tags": []
          },
          "execution_count": 6
        }
      ]
    },
    {
      "cell_type": "code",
      "metadata": {
        "colab": {
          "base_uri": "https://localhost:8080/"
        },
        "id": "FG1SM4qutvxS",
        "outputId": "dd1ef811-e199-491a-d730-525ef316c5a2"
      },
      "source": [
        "train_out.columns"
      ],
      "execution_count": 12,
      "outputs": [
        {
          "output_type": "execute_result",
          "data": {
            "text/plain": [
              "Index(['tier', 'gender', 'following_rate', 'followers_avg_age',\n",
              "       'following_avg_age', 'max_repetitive_punc',\n",
              "       'num_of_hashtags_per_action', 'emoji_count_per_action',\n",
              "       'punctuations_per_action', 'number_of_words_per_action',\n",
              "       'avgCompletion', 'avgTimeSpent', 'avgDuration', 'avgComments',\n",
              "       'creations', 'content_views', 'num_of_comments',\n",
              "       'weekends_trails_watched_per_day', 'weekdays_trails_watched_per_day',\n",
              "       'slot1_trails_watched_per_day', 'slot2_trails_watched_per_day',\n",
              "       'slot3_trails_watched_per_day', 'slot4_trails_watched_per_day', 'avgt2',\n",
              "       'age_group'],\n",
              "      dtype='object')"
            ]
          },
          "metadata": {
            "tags": []
          },
          "execution_count": 12
        }
      ]
    },
    {
      "cell_type": "code",
      "metadata": {
        "colab": {
          "base_uri": "https://localhost:8080/"
        },
        "id": "N1CRvRtPrVUk",
        "outputId": "b2fadf1b-a937-422d-f84d-0bce6faf5e72"
      },
      "source": [
        "from google.colab import drive\n",
        "drive.mount('/content/drive')"
      ],
      "execution_count": 2,
      "outputs": [
        {
          "output_type": "stream",
          "text": [
            "Mounted at /content/drive\n"
          ],
          "name": "stdout"
        }
      ]
    },
    {
      "cell_type": "code",
      "metadata": {
        "id": "Nc_LGsKequqs"
      },
      "source": [
        "y = train_out['age_group']\r\n",
        "X = train_out.drop(['age_group'], axis=1, inplace=False)"
      ],
      "execution_count": 7,
      "outputs": []
    },
    {
      "cell_type": "code",
      "metadata": {
        "colab": {
          "base_uri": "https://localhost:8080/"
        },
        "id": "73mG7W8hqutg",
        "outputId": "0061930f-db17-4b77-c89b-2131d4298213"
      },
      "source": [
        "from imblearn.combine import SMOTETomek\r\n",
        "smk = SMOTETomek(random_state=42)\r\n",
        "X_res,y_res=smk.fit_sample(X,y)"
      ],
      "execution_count": 8,
      "outputs": [
        {
          "output_type": "stream",
          "text": [
            "/usr/local/lib/python3.6/dist-packages/sklearn/utils/deprecation.py:87: FutureWarning: Function safe_indexing is deprecated; safe_indexing is deprecated in version 0.22 and will be removed in version 0.24.\n",
            "  warnings.warn(msg, category=FutureWarning)\n"
          ],
          "name": "stderr"
        }
      ]
    },
    {
      "cell_type": "code",
      "metadata": {
        "id": "Twcz_11ZquwJ"
      },
      "source": [
        "train_x,test_x,train_y,test_y=train_test_split(X_res,y_res,test_size=.0625,random_state=42, stratify = y_res)"
      ],
      "execution_count": 9,
      "outputs": []
    },
    {
      "cell_type": "code",
      "metadata": {
        "colab": {
          "base_uri": "https://localhost:8080/"
        },
        "id": "ZYtJWHPds1rq",
        "outputId": "335892da-d56f-4bbf-8927-b3d2f9bee11e"
      },
      "source": [
        "type(train_x)"
      ],
      "execution_count": 10,
      "outputs": [
        {
          "output_type": "execute_result",
          "data": {
            "text/plain": [
              "numpy.ndarray"
            ]
          },
          "metadata": {
            "tags": []
          },
          "execution_count": 10
        }
      ]
    },
    {
      "cell_type": "code",
      "metadata": {
        "colab": {
          "base_uri": "https://localhost:8080/"
        },
        "id": "JW3sE-gmtZhy",
        "outputId": "724494c3-3567-489f-f2d7-5503b0f1cc21"
      },
      "source": [
        "type(train_y)"
      ],
      "execution_count": 11,
      "outputs": [
        {
          "output_type": "execute_result",
          "data": {
            "text/plain": [
              "numpy.ndarray"
            ]
          },
          "metadata": {
            "tags": []
          },
          "execution_count": 11
        }
      ]
    },
    {
      "cell_type": "code",
      "metadata": {
        "colab": {
          "base_uri": "https://localhost:8080/",
          "height": 127
        },
        "id": "Q91dZpwutZlZ",
        "outputId": "0a7efd07-7a0c-4eb0-c97e-aef27342cb37"
      },
      "source": [
        "train_X = pd.DataFrame(train_x, columns = ['tier', 'gender', 'following_rate', 'followers_avg_age',\r\n",
        "       'following_avg_age', 'max_repetitive_punc',\r\n",
        "       'num_of_hashtags_per_action', 'emoji_count_per_action',\r\n",
        "       'punctuations_per_action', 'number_of_words_per_action',\r\n",
        "       'avgCompletion', 'avgTimeSpent', 'avgDuration', 'avgComments',\r\n",
        "       'creations', 'content_views', 'num_of_comments',\r\n",
        "       'weekends_trails_watched_per_day', 'weekdays_trails_watched_per_day',\r\n",
        "       'slot1_trails_watched_per_day', 'slot2_trails_watched_per_day',\r\n",
        "       'slot3_trails_watched_per_day', 'slot4_trails_watched_per_day', 'avgt2'])\r\n",
        "train_X.head(2)"
      ],
      "execution_count": 13,
      "outputs": [
        {
          "output_type": "execute_result",
          "data": {
            "text/html": [
              "<div>\n",
              "<style scoped>\n",
              "    .dataframe tbody tr th:only-of-type {\n",
              "        vertical-align: middle;\n",
              "    }\n",
              "\n",
              "    .dataframe tbody tr th {\n",
              "        vertical-align: top;\n",
              "    }\n",
              "\n",
              "    .dataframe thead th {\n",
              "        text-align: right;\n",
              "    }\n",
              "</style>\n",
              "<table border=\"1\" class=\"dataframe\">\n",
              "  <thead>\n",
              "    <tr style=\"text-align: right;\">\n",
              "      <th></th>\n",
              "      <th>tier</th>\n",
              "      <th>gender</th>\n",
              "      <th>following_rate</th>\n",
              "      <th>followers_avg_age</th>\n",
              "      <th>following_avg_age</th>\n",
              "      <th>max_repetitive_punc</th>\n",
              "      <th>num_of_hashtags_per_action</th>\n",
              "      <th>emoji_count_per_action</th>\n",
              "      <th>punctuations_per_action</th>\n",
              "      <th>number_of_words_per_action</th>\n",
              "      <th>avgCompletion</th>\n",
              "      <th>avgTimeSpent</th>\n",
              "      <th>avgDuration</th>\n",
              "      <th>avgComments</th>\n",
              "      <th>creations</th>\n",
              "      <th>content_views</th>\n",
              "      <th>num_of_comments</th>\n",
              "      <th>weekends_trails_watched_per_day</th>\n",
              "      <th>weekdays_trails_watched_per_day</th>\n",
              "      <th>slot1_trails_watched_per_day</th>\n",
              "      <th>slot2_trails_watched_per_day</th>\n",
              "      <th>slot3_trails_watched_per_day</th>\n",
              "      <th>slot4_trails_watched_per_day</th>\n",
              "      <th>avgt2</th>\n",
              "    </tr>\n",
              "  </thead>\n",
              "  <tbody>\n",
              "    <tr>\n",
              "      <th>0</th>\n",
              "      <td>2.000000</td>\n",
              "      <td>1.0</td>\n",
              "      <td>0.003630</td>\n",
              "      <td>0.0</td>\n",
              "      <td>0.0</td>\n",
              "      <td>0.000000</td>\n",
              "      <td>0.0</td>\n",
              "      <td>0.0</td>\n",
              "      <td>0.000000</td>\n",
              "      <td>0.111111</td>\n",
              "      <td>0.128572</td>\n",
              "      <td>33.833333</td>\n",
              "      <td>186.497143</td>\n",
              "      <td>0.0</td>\n",
              "      <td>0.001815</td>\n",
              "      <td>0.012704</td>\n",
              "      <td>0.0</td>\n",
              "      <td>0.010889</td>\n",
              "      <td>0.000000</td>\n",
              "      <td>0.000000</td>\n",
              "      <td>0.000000</td>\n",
              "      <td>0.019964</td>\n",
              "      <td>0.001815</td>\n",
              "      <td>221.071429</td>\n",
              "    </tr>\n",
              "    <tr>\n",
              "      <th>1</th>\n",
              "      <td>2.717098</td>\n",
              "      <td>1.0</td>\n",
              "      <td>0.007664</td>\n",
              "      <td>0.0</td>\n",
              "      <td>0.0</td>\n",
              "      <td>1.434196</td>\n",
              "      <td>0.0</td>\n",
              "      <td>0.0</td>\n",
              "      <td>0.068295</td>\n",
              "      <td>0.124875</td>\n",
              "      <td>0.128495</td>\n",
              "      <td>13.529996</td>\n",
              "      <td>178.924352</td>\n",
              "      <td>0.0</td>\n",
              "      <td>0.006118</td>\n",
              "      <td>0.107990</td>\n",
              "      <td>0.0</td>\n",
              "      <td>0.000000</td>\n",
              "      <td>0.030562</td>\n",
              "      <td>0.044819</td>\n",
              "      <td>0.012751</td>\n",
              "      <td>0.000000</td>\n",
              "      <td>0.095240</td>\n",
              "      <td>125.282902</td>\n",
              "    </tr>\n",
              "  </tbody>\n",
              "</table>\n",
              "</div>"
            ],
            "text/plain": [
              "       tier  gender  ...  slot4_trails_watched_per_day       avgt2\n",
              "0  2.000000     1.0  ...                      0.001815  221.071429\n",
              "1  2.717098     1.0  ...                      0.095240  125.282902\n",
              "\n",
              "[2 rows x 24 columns]"
            ]
          },
          "metadata": {
            "tags": []
          },
          "execution_count": 13
        }
      ]
    },
    {
      "cell_type": "code",
      "metadata": {
        "colab": {
          "base_uri": "https://localhost:8080/",
          "height": 127
        },
        "id": "zlvgR5sYtZpc",
        "outputId": "14990c64-6268-4025-d96d-5478a93c494a"
      },
      "source": [
        "test_X = pd.DataFrame(test_x, columns = ['tier', 'gender', 'following_rate', 'followers_avg_age',\r\n",
        "       'following_avg_age', 'max_repetitive_punc',\r\n",
        "       'num_of_hashtags_per_action', 'emoji_count_per_action',\r\n",
        "       'punctuations_per_action', 'number_of_words_per_action',\r\n",
        "       'avgCompletion', 'avgTimeSpent', 'avgDuration', 'avgComments',\r\n",
        "       'creations', 'content_views', 'num_of_comments',\r\n",
        "       'weekends_trails_watched_per_day', 'weekdays_trails_watched_per_day',\r\n",
        "       'slot1_trails_watched_per_day', 'slot2_trails_watched_per_day',\r\n",
        "       'slot3_trails_watched_per_day', 'slot4_trails_watched_per_day', 'avgt2'])\r\n",
        "test_X.head(2)"
      ],
      "execution_count": 14,
      "outputs": [
        {
          "output_type": "execute_result",
          "data": {
            "text/html": [
              "<div>\n",
              "<style scoped>\n",
              "    .dataframe tbody tr th:only-of-type {\n",
              "        vertical-align: middle;\n",
              "    }\n",
              "\n",
              "    .dataframe tbody tr th {\n",
              "        vertical-align: top;\n",
              "    }\n",
              "\n",
              "    .dataframe thead th {\n",
              "        text-align: right;\n",
              "    }\n",
              "</style>\n",
              "<table border=\"1\" class=\"dataframe\">\n",
              "  <thead>\n",
              "    <tr style=\"text-align: right;\">\n",
              "      <th></th>\n",
              "      <th>tier</th>\n",
              "      <th>gender</th>\n",
              "      <th>following_rate</th>\n",
              "      <th>followers_avg_age</th>\n",
              "      <th>following_avg_age</th>\n",
              "      <th>max_repetitive_punc</th>\n",
              "      <th>num_of_hashtags_per_action</th>\n",
              "      <th>emoji_count_per_action</th>\n",
              "      <th>punctuations_per_action</th>\n",
              "      <th>number_of_words_per_action</th>\n",
              "      <th>avgCompletion</th>\n",
              "      <th>avgTimeSpent</th>\n",
              "      <th>avgDuration</th>\n",
              "      <th>avgComments</th>\n",
              "      <th>creations</th>\n",
              "      <th>content_views</th>\n",
              "      <th>num_of_comments</th>\n",
              "      <th>weekends_trails_watched_per_day</th>\n",
              "      <th>weekdays_trails_watched_per_day</th>\n",
              "      <th>slot1_trails_watched_per_day</th>\n",
              "      <th>slot2_trails_watched_per_day</th>\n",
              "      <th>slot3_trails_watched_per_day</th>\n",
              "      <th>slot4_trails_watched_per_day</th>\n",
              "      <th>avgt2</th>\n",
              "    </tr>\n",
              "  </thead>\n",
              "  <tbody>\n",
              "    <tr>\n",
              "      <th>0</th>\n",
              "      <td>2.0</td>\n",
              "      <td>2.0</td>\n",
              "      <td>0.0</td>\n",
              "      <td>0.0</td>\n",
              "      <td>0.0</td>\n",
              "      <td>0.0</td>\n",
              "      <td>0.0</td>\n",
              "      <td>0.0</td>\n",
              "      <td>0.0</td>\n",
              "      <td>0.0</td>\n",
              "      <td>0.355810</td>\n",
              "      <td>4.428571</td>\n",
              "      <td>12.665286</td>\n",
              "      <td>0.0</td>\n",
              "      <td>0.000000</td>\n",
              "      <td>0.065041</td>\n",
              "      <td>0.0</td>\n",
              "      <td>0.0</td>\n",
              "      <td>0.011382</td>\n",
              "      <td>0.0</td>\n",
              "      <td>0.000000</td>\n",
              "      <td>0.0</td>\n",
              "      <td>0.056911</td>\n",
              "      <td>0.000000</td>\n",
              "    </tr>\n",
              "    <tr>\n",
              "      <th>1</th>\n",
              "      <td>2.0</td>\n",
              "      <td>2.0</td>\n",
              "      <td>0.0</td>\n",
              "      <td>0.0</td>\n",
              "      <td>0.0</td>\n",
              "      <td>0.0</td>\n",
              "      <td>0.0</td>\n",
              "      <td>0.0</td>\n",
              "      <td>0.0</td>\n",
              "      <td>1.0</td>\n",
              "      <td>0.341657</td>\n",
              "      <td>6.000000</td>\n",
              "      <td>83.051415</td>\n",
              "      <td>0.0</td>\n",
              "      <td>0.007812</td>\n",
              "      <td>0.007812</td>\n",
              "      <td>0.0</td>\n",
              "      <td>0.0</td>\n",
              "      <td>0.003125</td>\n",
              "      <td>0.0</td>\n",
              "      <td>0.007812</td>\n",
              "      <td>0.0</td>\n",
              "      <td>0.007812</td>\n",
              "      <td>164.833333</td>\n",
              "    </tr>\n",
              "  </tbody>\n",
              "</table>\n",
              "</div>"
            ],
            "text/plain": [
              "   tier  gender  ...  slot4_trails_watched_per_day       avgt2\n",
              "0   2.0     2.0  ...                      0.056911    0.000000\n",
              "1   2.0     2.0  ...                      0.007812  164.833333\n",
              "\n",
              "[2 rows x 24 columns]"
            ]
          },
          "metadata": {
            "tags": []
          },
          "execution_count": 14
        }
      ]
    },
    {
      "cell_type": "code",
      "metadata": {
        "colab": {
          "base_uri": "https://localhost:8080/",
          "height": 107
        },
        "id": "zlGwncLUtZsV",
        "outputId": "7cdc1b62-f1fc-4fc7-dff8-99df090dda61"
      },
      "source": [
        "train_Y=pd.DataFrame(train_y, columns = ['age_group'])\r\n",
        "train_Y.head(2)"
      ],
      "execution_count": 15,
      "outputs": [
        {
          "output_type": "execute_result",
          "data": {
            "text/html": [
              "<div>\n",
              "<style scoped>\n",
              "    .dataframe tbody tr th:only-of-type {\n",
              "        vertical-align: middle;\n",
              "    }\n",
              "\n",
              "    .dataframe tbody tr th {\n",
              "        vertical-align: top;\n",
              "    }\n",
              "\n",
              "    .dataframe thead th {\n",
              "        text-align: right;\n",
              "    }\n",
              "</style>\n",
              "<table border=\"1\" class=\"dataframe\">\n",
              "  <thead>\n",
              "    <tr style=\"text-align: right;\">\n",
              "      <th></th>\n",
              "      <th>age_group</th>\n",
              "    </tr>\n",
              "  </thead>\n",
              "  <tbody>\n",
              "    <tr>\n",
              "      <th>0</th>\n",
              "      <td>3</td>\n",
              "    </tr>\n",
              "    <tr>\n",
              "      <th>1</th>\n",
              "      <td>2</td>\n",
              "    </tr>\n",
              "  </tbody>\n",
              "</table>\n",
              "</div>"
            ],
            "text/plain": [
              "   age_group\n",
              "0          3\n",
              "1          2"
            ]
          },
          "metadata": {
            "tags": []
          },
          "execution_count": 15
        }
      ]
    },
    {
      "cell_type": "code",
      "metadata": {
        "colab": {
          "base_uri": "https://localhost:8080/",
          "height": 107
        },
        "id": "0KvqvgEftaBT",
        "outputId": "d91adcb0-e27a-4982-a287-c8e2c274d5a8"
      },
      "source": [
        "test_Y=pd.DataFrame(test_y, columns = ['age_group'])\r\n",
        "test_Y.head(2)"
      ],
      "execution_count": 16,
      "outputs": [
        {
          "output_type": "execute_result",
          "data": {
            "text/html": [
              "<div>\n",
              "<style scoped>\n",
              "    .dataframe tbody tr th:only-of-type {\n",
              "        vertical-align: middle;\n",
              "    }\n",
              "\n",
              "    .dataframe tbody tr th {\n",
              "        vertical-align: top;\n",
              "    }\n",
              "\n",
              "    .dataframe thead th {\n",
              "        text-align: right;\n",
              "    }\n",
              "</style>\n",
              "<table border=\"1\" class=\"dataframe\">\n",
              "  <thead>\n",
              "    <tr style=\"text-align: right;\">\n",
              "      <th></th>\n",
              "      <th>age_group</th>\n",
              "    </tr>\n",
              "  </thead>\n",
              "  <tbody>\n",
              "    <tr>\n",
              "      <th>0</th>\n",
              "      <td>1</td>\n",
              "    </tr>\n",
              "    <tr>\n",
              "      <th>1</th>\n",
              "      <td>1</td>\n",
              "    </tr>\n",
              "  </tbody>\n",
              "</table>\n",
              "</div>"
            ],
            "text/plain": [
              "   age_group\n",
              "0          1\n",
              "1          1"
            ]
          },
          "metadata": {
            "tags": []
          },
          "execution_count": 16
        }
      ]
    },
    {
      "cell_type": "code",
      "metadata": {
        "id": "_COVLwhaquy9"
      },
      "source": [
        "xgb_clf = XGBClassifier(tree_method = 'gpu_hist', gpu_id=0, objective = \"multi:softmax\", num_class=4,n_estimators=1000, max_depth=15,learning_rate=0.005)"
      ],
      "execution_count": 17,
      "outputs": []
    },
    {
      "cell_type": "code",
      "metadata": {
        "colab": {
          "base_uri": "https://localhost:8080/"
        },
        "id": "sxLFLxcTqu4l",
        "outputId": "c8cb0376-b2b5-4ebd-d3b1-cc1bc5672b6d"
      },
      "source": [
        "xgb_hist = xgb_clf.fit(train_X, train_Y)"
      ],
      "execution_count": null,
      "outputs": [
        {
          "output_type": "stream",
          "text": [
            "/usr/local/lib/python3.6/dist-packages/sklearn/preprocessing/_label.py:235: DataConversionWarning: A column-vector y was passed when a 1d array was expected. Please change the shape of y to (n_samples, ), for example using ravel().\n",
            "  y = column_or_1d(y, warn=True)\n",
            "/usr/local/lib/python3.6/dist-packages/sklearn/preprocessing/_label.py:268: DataConversionWarning: A column-vector y was passed when a 1d array was expected. Please change the shape of y to (n_samples, ), for example using ravel().\n",
            "  y = column_or_1d(y, warn=True)\n"
          ],
          "name": "stderr"
        }
      ]
    },
    {
      "cell_type": "code",
      "metadata": {
        "id": "Dfc_pWrYqu7l"
      },
      "source": [
        "from sklearn import metrics\r\n",
        "expected_y  = test_Y\r\n",
        "predicted_y = xgb_clf.predict(test_X)\r\n",
        "print('Report: ')\r\n",
        "print(metrics.classification_report(expected_y, predicted_y))"
      ],
      "execution_count": null,
      "outputs": []
    },
    {
      "cell_type": "code",
      "metadata": {
        "id": "qJndybU1qvBQ"
      },
      "source": [
        "test=pd.read_csv('/content/drive/MyDrive/test_age_dataset.csv')\r\n",
        "test.drop([\"Unnamed: 0\",\"userId\"], axis=1, inplace=True)\r\n",
        "test.head(2)"
      ],
      "execution_count": null,
      "outputs": []
    },
    {
      "cell_type": "code",
      "metadata": {
        "id": "xX6Spum4qvHq"
      },
      "source": [
        "predict = xgb_clf.predict(test)"
      ],
      "execution_count": null,
      "outputs": []
    },
    {
      "cell_type": "code",
      "metadata": {
        "id": "Gbao8YenqvOQ"
      },
      "source": [
        "df_pred = pd.DataFrame({\"prediction\" : predict}, columns = [\"prediction\"]).set_index(\"prediction\")"
      ],
      "execution_count": null,
      "outputs": []
    },
    {
      "cell_type": "code",
      "metadata": {
        "id": "XQorTDbzsuh5"
      },
      "source": [
        "def download_preds(df_pred, file_name = 'outliers_4_test_predicted.csv'):\r\n",
        "  df_pred.to_csv(file_name)\r\n",
        "  from google.colab import files\r\n",
        "  files.download(file_name)\r\n",
        "download_preds(df_pred, file_name = 'outliers_4_test_predicted.csv')"
      ],
      "execution_count": null,
      "outputs": []
    },
    {
      "cell_type": "code",
      "metadata": {
        "id": "VVDhpHz4sulH"
      },
      "source": [
        ""
      ],
      "execution_count": null,
      "outputs": []
    },
    {
      "cell_type": "code",
      "metadata": {
        "id": "hVCDjohJsunl"
      },
      "source": [
        ""
      ],
      "execution_count": null,
      "outputs": []
    },
    {
      "cell_type": "code",
      "metadata": {
        "id": "jNq17MS6suqf"
      },
      "source": [
        ""
      ],
      "execution_count": null,
      "outputs": []
    },
    {
      "cell_type": "code",
      "metadata": {
        "id": "CQtaM_WvsuvF"
      },
      "source": [
        ""
      ],
      "execution_count": null,
      "outputs": []
    },
    {
      "cell_type": "code",
      "metadata": {
        "id": "RPN3j9olsuy3"
      },
      "source": [
        ""
      ],
      "execution_count": null,
      "outputs": []
    }
  ]
}